{
  "cells": [
    {
      "cell_type": "markdown",
      "id": "42289889-bd57-434e-9637-d3e354756316",
      "metadata": {
        "id": "42289889-bd57-434e-9637-d3e354756316"
      },
      "source": [
        "<center> <img src = https://raw.githubusercontent.com/AndreyRysistov/DatasetsForPandas/main/hh%20label.jpg alt=\"drawing\" style=\"width:400px;\">"
      ]
    },
    {
      "cell_type": "markdown",
      "id": "829cb75b-f14e-4ba8-9195-7ba929a7d656",
      "metadata": {
        "id": "829cb75b-f14e-4ba8-9195-7ba929a7d656",
        "tags": []
      },
      "source": [
        "# <center> Проект: Анализ вакансий из HeadHunter\n",
        "   "
      ]
    },
    {
      "cell_type": "code",
      "execution_count": 86,
      "id": "dccfde33-2452-43fb-a8a5-5c6ebc02a71d",
      "metadata": {
        "id": "dccfde33-2452-43fb-a8a5-5c6ebc02a71d"
      },
      "outputs": [],
      "source": [
        "import pandas as pd\n",
        "import psycopg2"
      ]
    },
    {
      "cell_type": "code",
      "execution_count": 87,
      "id": "oVKH4ehvf8Ay",
      "metadata": {
        "id": "oVKH4ehvf8Ay"
      },
      "outputs": [],
      "source": [
        "# вставьте сюда параметры подключения из юнита 1. Работа с базой данных из Python\n",
        "from configparser import ConfigParser\n",
        "\n",
        "# Считывание параметров подключения к базе данных из конфигурационного файла\n",
        "config = ConfigParser()\n",
        "config.read('config.ini')\n",
        "\n",
        "host = config.get('postgresql', 'host')\n",
        "port = config.get('postgresql', 'port')\n",
        "database = config.get('postgresql', 'database')\n",
        "user = config.get('postgresql', 'user')\n",
        "password = config.get('postgresql', 'password')"
      ]
    },
    {
      "cell_type": "code",
      "execution_count": 88,
      "id": "G4X_q8KBf7SF",
      "metadata": {
        "id": "G4X_q8KBf7SF"
      },
      "outputs": [],
      "source": [
        "connection = psycopg2.connect(\n",
        "    host=host,\n",
        "    port=port,\n",
        "    database=database,\n",
        "    user=user,\n",
        "    password=password\n",
        ")"
      ]
    },
    {
      "cell_type": "markdown",
      "id": "0dc6476b-7a00-44f1-ac93-6e3baed33a29",
      "metadata": {
        "id": "0dc6476b-7a00-44f1-ac93-6e3baed33a29"
      },
      "source": [
        "# Юнит 3. Предварительный анализ данных"
      ]
    },
    {
      "cell_type": "markdown",
      "id": "889782b6-8d1c-410e-8920-e57f27917c64",
      "metadata": {
        "id": "889782b6-8d1c-410e-8920-e57f27917c64"
      },
      "source": [
        "1. Напишите запрос, который посчитает количество вакансий в нашей базе (вакансии находятся в таблице vacancies). "
      ]
    },
    {
      "cell_type": "code",
      "execution_count": 89,
      "id": "bc39e68e-ed02-4ee2-9235-7258a2f867a8",
      "metadata": {
        "id": "bc39e68e-ed02-4ee2-9235-7258a2f867a8"
      },
      "outputs": [
        {
          "name": "stderr",
          "output_type": "stream",
          "text": [
            "C:\\Users\\user\\AppData\\Local\\Temp\\ipykernel_18424\\2879138304.py:13: UserWarning: pandas only supports SQLAlchemy connectable (engine/connection) or database string URI or sqlite3 DBAPI2 connection. Other DBAPI2 objects are not tested. Please consider using SQLAlchemy.\n",
            "  df = pd.read_sql_query(query_3_1, connection)\n"
          ]
        },
        {
          "data": {
            "text/html": [
              "<div>\n",
              "<style scoped>\n",
              "    .dataframe tbody tr th:only-of-type {\n",
              "        vertical-align: middle;\n",
              "    }\n",
              "\n",
              "    .dataframe tbody tr th {\n",
              "        vertical-align: top;\n",
              "    }\n",
              "\n",
              "    .dataframe thead th {\n",
              "        text-align: right;\n",
              "    }\n",
              "</style>\n",
              "<table border=\"1\" class=\"dataframe\">\n",
              "  <thead>\n",
              "    <tr style=\"text-align: right;\">\n",
              "      <th></th>\n",
              "      <th>count</th>\n",
              "    </tr>\n",
              "  </thead>\n",
              "  <tbody>\n",
              "    <tr>\n",
              "      <th>0</th>\n",
              "      <td>49197</td>\n",
              "    </tr>\n",
              "  </tbody>\n",
              "</table>\n",
              "</div>"
            ],
            "text/plain": [
              "   count\n",
              "0  49197"
            ]
          },
          "execution_count": 89,
          "metadata": {},
          "output_type": "execute_result"
        }
      ],
      "source": [
        "# текст запроса\n",
        "connection = psycopg2.connect(\n",
        "    host=host,\n",
        "    port=port,\n",
        "    database=database,\n",
        "    user=user,\n",
        "    password=password\n",
        ")\n",
        "\n",
        "query_3_1 = f'''select count(*)\n",
        "                from vacancies\n",
        "                '''\n",
        "df = pd.read_sql_query(query_3_1, connection)\n",
        "connection.close()\n",
        "df.tail()"
      ]
    },
    {
      "cell_type": "code",
      "execution_count": 90,
      "id": "7mAwtsk4hEHY",
      "metadata": {
        "id": "7mAwtsk4hEHY"
      },
      "outputs": [
        {
          "data": {
            "text/plain": [
              "array([[49197]], dtype=int64)"
            ]
          },
          "execution_count": 90,
          "metadata": {},
          "output_type": "execute_result"
        }
      ],
      "source": [
        "# результат запроса\n",
        "df.values\n",
        "# array([[49197]], dtype=int64)"
      ]
    },
    {
      "attachments": {},
      "cell_type": "markdown",
      "id": "b583485d-1f9e-494e-ada4-80ffff7c53d6",
      "metadata": {
        "id": "b583485d-1f9e-494e-ada4-80ffff7c53d6"
      },
      "source": [
        "2. Напишите запрос, который посчитает количество работодателей (таблица employers)."
      ]
    },
    {
      "cell_type": "code",
      "execution_count": 91,
      "id": "5408c52c-3407-4a63-b25b-1aafa2322d28",
      "metadata": {
        "id": "5408c52c-3407-4a63-b25b-1aafa2322d28"
      },
      "outputs": [
        {
          "name": "stderr",
          "output_type": "stream",
          "text": [
            "C:\\Users\\user\\AppData\\Local\\Temp\\ipykernel_18424\\2300358882.py:13: UserWarning: pandas only supports SQLAlchemy connectable (engine/connection) or database string URI or sqlite3 DBAPI2 connection. Other DBAPI2 objects are not tested. Please consider using SQLAlchemy.\n",
            "  df = pd.read_sql_query(query_3_2, connection)\n"
          ]
        },
        {
          "data": {
            "text/html": [
              "<div>\n",
              "<style scoped>\n",
              "    .dataframe tbody tr th:only-of-type {\n",
              "        vertical-align: middle;\n",
              "    }\n",
              "\n",
              "    .dataframe tbody tr th {\n",
              "        vertical-align: top;\n",
              "    }\n",
              "\n",
              "    .dataframe thead th {\n",
              "        text-align: right;\n",
              "    }\n",
              "</style>\n",
              "<table border=\"1\" class=\"dataframe\">\n",
              "  <thead>\n",
              "    <tr style=\"text-align: right;\">\n",
              "      <th></th>\n",
              "      <th>count</th>\n",
              "    </tr>\n",
              "  </thead>\n",
              "  <tbody>\n",
              "    <tr>\n",
              "      <th>0</th>\n",
              "      <td>23501</td>\n",
              "    </tr>\n",
              "  </tbody>\n",
              "</table>\n",
              "</div>"
            ],
            "text/plain": [
              "   count\n",
              "0  23501"
            ]
          },
          "execution_count": 91,
          "metadata": {},
          "output_type": "execute_result"
        }
      ],
      "source": [
        "# текст запроса\n",
        "connection = psycopg2.connect(\n",
        "    host=host,\n",
        "    port=port,\n",
        "    database=database,\n",
        "    user=user,\n",
        "    password=password\n",
        ")\n",
        "\n",
        "query_3_2 = f'''select distinct count(id)\n",
        "                from employers\n",
        "                '''\n",
        "df = pd.read_sql_query(query_3_2, connection)\n",
        "connection.close()\n",
        "df.tail()"
      ]
    },
    {
      "cell_type": "code",
      "execution_count": 92,
      "id": "jVL4eshKhdqc",
      "metadata": {
        "id": "jVL4eshKhdqc"
      },
      "outputs": [
        {
          "data": {
            "text/plain": [
              "array([[23501]], dtype=int64)"
            ]
          },
          "execution_count": 92,
          "metadata": {},
          "output_type": "execute_result"
        }
      ],
      "source": [
        "# результат запроса\n",
        "df.values\n",
        "# array([[23501]], dtype=int64)"
      ]
    },
    {
      "attachments": {},
      "cell_type": "markdown",
      "id": "a2bfff1f-c975-4bf6-84be-2185d79dcb76",
      "metadata": {
        "id": "a2bfff1f-c975-4bf6-84be-2185d79dcb76"
      },
      "source": [
        "3. Посчитайте с помощью запроса количество регионов (таблица areas)."
      ]
    },
    {
      "cell_type": "code",
      "execution_count": 93,
      "id": "1m8QJwBYhey6",
      "metadata": {
        "id": "1m8QJwBYhey6"
      },
      "outputs": [
        {
          "name": "stderr",
          "output_type": "stream",
          "text": [
            "C:\\Users\\user\\AppData\\Local\\Temp\\ipykernel_18424\\1770019654.py:13: UserWarning: pandas only supports SQLAlchemy connectable (engine/connection) or database string URI or sqlite3 DBAPI2 connection. Other DBAPI2 objects are not tested. Please consider using SQLAlchemy.\n",
            "  df = pd.read_sql_query(query_3_3, connection)\n"
          ]
        },
        {
          "data": {
            "text/html": [
              "<div>\n",
              "<style scoped>\n",
              "    .dataframe tbody tr th:only-of-type {\n",
              "        vertical-align: middle;\n",
              "    }\n",
              "\n",
              "    .dataframe tbody tr th {\n",
              "        vertical-align: top;\n",
              "    }\n",
              "\n",
              "    .dataframe thead th {\n",
              "        text-align: right;\n",
              "    }\n",
              "</style>\n",
              "<table border=\"1\" class=\"dataframe\">\n",
              "  <thead>\n",
              "    <tr style=\"text-align: right;\">\n",
              "      <th></th>\n",
              "      <th>count</th>\n",
              "    </tr>\n",
              "  </thead>\n",
              "  <tbody>\n",
              "    <tr>\n",
              "      <th>0</th>\n",
              "      <td>1362</td>\n",
              "    </tr>\n",
              "  </tbody>\n",
              "</table>\n",
              "</div>"
            ],
            "text/plain": [
              "   count\n",
              "0   1362"
            ]
          },
          "execution_count": 93,
          "metadata": {},
          "output_type": "execute_result"
        }
      ],
      "source": [
        "# текст запроса\n",
        "connection = psycopg2.connect(\n",
        "    host=host,\n",
        "    port=port,\n",
        "    database=database,\n",
        "    user=user,\n",
        "    password=password\n",
        ")\n",
        "\n",
        "query_3_3 = f'''select distinct count(id)\n",
        "                from areas\n",
        "                '''\n",
        "df = pd.read_sql_query(query_3_3, connection)\n",
        "connection.close()\n",
        "df.tail()"
      ]
    },
    {
      "cell_type": "code",
      "execution_count": 94,
      "id": "EZsn9tlfhe7f",
      "metadata": {
        "id": "EZsn9tlfhe7f"
      },
      "outputs": [
        {
          "data": {
            "text/plain": [
              "array([[1362]], dtype=int64)"
            ]
          },
          "execution_count": 94,
          "metadata": {},
          "output_type": "execute_result"
        }
      ],
      "source": [
        "# результат запроса\n",
        "df.values\n",
        "# array([[1362]], dtype=int64)"
      ]
    },
    {
      "cell_type": "markdown",
      "id": "41bb59f3-53cc-4a67-a5bc-bedf573955e4",
      "metadata": {
        "id": "41bb59f3-53cc-4a67-a5bc-bedf573955e4"
      },
      "source": [
        "4. Посчитайте с помощью запроса количество сфер деятельности в базе (таблица industries)."
      ]
    },
    {
      "cell_type": "code",
      "execution_count": 95,
      "id": "d286cf4c-707b-4cd2-9190-7ab3587d04a1",
      "metadata": {
        "id": "d286cf4c-707b-4cd2-9190-7ab3587d04a1"
      },
      "outputs": [
        {
          "name": "stderr",
          "output_type": "stream",
          "text": [
            "C:\\Users\\user\\AppData\\Local\\Temp\\ipykernel_18424\\1953924466.py:13: UserWarning: pandas only supports SQLAlchemy connectable (engine/connection) or database string URI or sqlite3 DBAPI2 connection. Other DBAPI2 objects are not tested. Please consider using SQLAlchemy.\n",
            "  df = pd.read_sql_query(query_3_4, connection)\n"
          ]
        },
        {
          "data": {
            "text/html": [
              "<div>\n",
              "<style scoped>\n",
              "    .dataframe tbody tr th:only-of-type {\n",
              "        vertical-align: middle;\n",
              "    }\n",
              "\n",
              "    .dataframe tbody tr th {\n",
              "        vertical-align: top;\n",
              "    }\n",
              "\n",
              "    .dataframe thead th {\n",
              "        text-align: right;\n",
              "    }\n",
              "</style>\n",
              "<table border=\"1\" class=\"dataframe\">\n",
              "  <thead>\n",
              "    <tr style=\"text-align: right;\">\n",
              "      <th></th>\n",
              "      <th>count</th>\n",
              "    </tr>\n",
              "  </thead>\n",
              "  <tbody>\n",
              "    <tr>\n",
              "      <th>0</th>\n",
              "      <td>294</td>\n",
              "    </tr>\n",
              "  </tbody>\n",
              "</table>\n",
              "</div>"
            ],
            "text/plain": [
              "   count\n",
              "0    294"
            ]
          },
          "execution_count": 95,
          "metadata": {},
          "output_type": "execute_result"
        }
      ],
      "source": [
        "# текст запроса\n",
        "connection = psycopg2.connect(\n",
        "    host=host,\n",
        "    port=port,\n",
        "    database=database,\n",
        "    user=user,\n",
        "    password=password\n",
        ")\n",
        "\n",
        "query_3_4 = f'''select distinct count(id)\n",
        "                from industries\n",
        "                '''\n",
        "df = pd.read_sql_query(query_3_4, connection)\n",
        "connection.close()\n",
        "df.tail()"
      ]
    },
    {
      "cell_type": "code",
      "execution_count": 96,
      "id": "JYAaoZ4qhfzW",
      "metadata": {
        "id": "JYAaoZ4qhfzW"
      },
      "outputs": [
        {
          "data": {
            "text/plain": [
              "array([[294]], dtype=int64)"
            ]
          },
          "execution_count": 96,
          "metadata": {},
          "output_type": "execute_result"
        }
      ],
      "source": [
        "# результат запроса\n",
        "df.values\n",
        "# array([[294]], dtype=int64)"
      ]
    },
    {
      "cell_type": "markdown",
      "id": "9a8a2181-6914-448b-85f1-38f5f18b8a93",
      "metadata": {
        "id": "9a8a2181-6914-448b-85f1-38f5f18b8a93"
      },
      "source": [
        "***"
      ]
    },
    {
      "attachments": {},
      "cell_type": "markdown",
      "id": "be4e9bd3-a4db-4a20-82fb-6b02fc2957e0",
      "metadata": {
        "id": "be4e9bd3-a4db-4a20-82fb-6b02fc2957e0"
      },
      "source": [
        "## Выводы по предварительному анализу данных:\n",
        "Предварительный анализ данных, даёт нам ознакомительное представление о масштабах рынка труда, представленного в нашей базе, о большом количестве вакансий, распределенных по различным регионам и сферам деятельности. Количество работодателей явно превышает количество городов и сфер деятельности, что свидетельствует о высоком спросе и конкуренции на квалифицированных специалистов."
      ]
    },
    {
      "cell_type": "markdown",
      "id": "8d62a9f3-f64e-4fe7-bdac-c4dffa16155e",
      "metadata": {
        "id": "8d62a9f3-f64e-4fe7-bdac-c4dffa16155e"
      },
      "source": [
        "# Юнит 4. Детальный анализ вакансий"
      ]
    },
    {
      "cell_type": "markdown",
      "id": "93053d3d-b284-481a-9cf7-012d7014c0e0",
      "metadata": {
        "id": "93053d3d-b284-481a-9cf7-012d7014c0e0"
      },
      "source": [
        "1. Напишите запрос, который позволит узнать, сколько (cnt) вакансий в каждом регионе (area).\n",
        "Отсортируйте по количеству вакансий в порядке убывания."
      ]
    },
    {
      "cell_type": "code",
      "execution_count": 97,
      "id": "3f069da6-fdc9-4ae7-b514-fafe2675efd3",
      "metadata": {
        "id": "3f069da6-fdc9-4ae7-b514-fafe2675efd3"
      },
      "outputs": [
        {
          "name": "stderr",
          "output_type": "stream",
          "text": [
            "C:\\Users\\user\\AppData\\Local\\Temp\\ipykernel_18424\\3951004122.py:17: UserWarning: pandas only supports SQLAlchemy connectable (engine/connection) or database string URI or sqlite3 DBAPI2 connection. Other DBAPI2 objects are not tested. Please consider using SQLAlchemy.\n",
            "  df = pd.read_sql_query(query_4_1, connection)\n"
          ]
        },
        {
          "data": {
            "text/html": [
              "<div>\n",
              "<style scoped>\n",
              "    .dataframe tbody tr th:only-of-type {\n",
              "        vertical-align: middle;\n",
              "    }\n",
              "\n",
              "    .dataframe tbody tr th {\n",
              "        vertical-align: top;\n",
              "    }\n",
              "\n",
              "    .dataframe thead th {\n",
              "        text-align: right;\n",
              "    }\n",
              "</style>\n",
              "<table border=\"1\" class=\"dataframe\">\n",
              "  <thead>\n",
              "    <tr style=\"text-align: right;\">\n",
              "      <th></th>\n",
              "      <th>area</th>\n",
              "      <th>cnt</th>\n",
              "    </tr>\n",
              "  </thead>\n",
              "  <tbody>\n",
              "    <tr>\n",
              "      <th>0</th>\n",
              "      <td>Москва</td>\n",
              "      <td>5333</td>\n",
              "    </tr>\n",
              "    <tr>\n",
              "      <th>1</th>\n",
              "      <td>Санкт-Петербург</td>\n",
              "      <td>2851</td>\n",
              "    </tr>\n",
              "    <tr>\n",
              "      <th>2</th>\n",
              "      <td>Минск</td>\n",
              "      <td>2112</td>\n",
              "    </tr>\n",
              "    <tr>\n",
              "      <th>3</th>\n",
              "      <td>Новосибирск</td>\n",
              "      <td>2006</td>\n",
              "    </tr>\n",
              "    <tr>\n",
              "      <th>4</th>\n",
              "      <td>Алматы</td>\n",
              "      <td>1892</td>\n",
              "    </tr>\n",
              "  </tbody>\n",
              "</table>\n",
              "</div>"
            ],
            "text/plain": [
              "              area   cnt\n",
              "0           Москва  5333\n",
              "1  Санкт-Петербург  2851\n",
              "2            Минск  2112\n",
              "3      Новосибирск  2006\n",
              "4           Алматы  1892"
            ]
          },
          "execution_count": 97,
          "metadata": {},
          "output_type": "execute_result"
        }
      ],
      "source": [
        "# текст запроса\n",
        "connection = psycopg2.connect(\n",
        "    host=host,\n",
        "    port=port,\n",
        "    database=database,\n",
        "    user=user,\n",
        "    password=password\n",
        ")\n",
        "\n",
        "query_4_1 = f'''select areas.name area,\n",
        "\t                count(areas.name) cnt\n",
        "                from areas\n",
        "                join vacancies v on v.area_id=areas.id\n",
        "                group by area\n",
        "                order by cnt desc\n",
        "                '''\n",
        "df = pd.read_sql_query(query_4_1, connection)\n",
        "connection.close()\n",
        "df.head(5)"
      ]
    },
    {
      "cell_type": "code",
      "execution_count": 98,
      "id": "P7QL86hrjhRJ",
      "metadata": {
        "id": "P7QL86hrjhRJ"
      },
      "outputs": [
        {
          "data": {
            "text/plain": [
              "array([['Москва', 5333],\n",
              "       ['Санкт-Петербург', 2851],\n",
              "       ['Минск', 2112],\n",
              "       ['Новосибирск', 2006],\n",
              "       ['Алматы', 1892]], dtype=object)"
            ]
          },
          "execution_count": 98,
          "metadata": {},
          "output_type": "execute_result"
        }
      ],
      "source": [
        "# результат запроса\n",
        "df.head(5).values\n",
        "\n",
        "# array([['Москва', 5333],\n",
        "#        ['Санкт-Петербург', 2851],\n",
        "#        ['Минск', 2112],\n",
        "#        ['Новосибирск', 2006],\n",
        "#        ['Алматы', 1892]], dtype=object)"
      ]
    },
    {
      "cell_type": "markdown",
      "id": "4266f0b6-1646-492a-88b4-2f6a46502135",
      "metadata": {
        "id": "4266f0b6-1646-492a-88b4-2f6a46502135"
      },
      "source": [
        "2. Напишите запрос, чтобы определить у какого количества вакансий заполнено хотя бы одно из двух полей с зарплатой."
      ]
    },
    {
      "cell_type": "code",
      "execution_count": 99,
      "id": "0c44b350-72eb-4d65-8b54-a1fc449ba9fd",
      "metadata": {
        "id": "0c44b350-72eb-4d65-8b54-a1fc449ba9fd"
      },
      "outputs": [
        {
          "name": "stderr",
          "output_type": "stream",
          "text": [
            "C:\\Users\\user\\AppData\\Local\\Temp\\ipykernel_18424\\2751696458.py:14: UserWarning: pandas only supports SQLAlchemy connectable (engine/connection) or database string URI or sqlite3 DBAPI2 connection. Other DBAPI2 objects are not tested. Please consider using SQLAlchemy.\n",
            "  df = pd.read_sql_query(query_4_2, connection)\n"
          ]
        },
        {
          "data": {
            "text/html": [
              "<div>\n",
              "<style scoped>\n",
              "    .dataframe tbody tr th:only-of-type {\n",
              "        vertical-align: middle;\n",
              "    }\n",
              "\n",
              "    .dataframe tbody tr th {\n",
              "        vertical-align: top;\n",
              "    }\n",
              "\n",
              "    .dataframe thead th {\n",
              "        text-align: right;\n",
              "    }\n",
              "</style>\n",
              "<table border=\"1\" class=\"dataframe\">\n",
              "  <thead>\n",
              "    <tr style=\"text-align: right;\">\n",
              "      <th></th>\n",
              "      <th>count</th>\n",
              "    </tr>\n",
              "  </thead>\n",
              "  <tbody>\n",
              "    <tr>\n",
              "      <th>0</th>\n",
              "      <td>24073</td>\n",
              "    </tr>\n",
              "  </tbody>\n",
              "</table>\n",
              "</div>"
            ],
            "text/plain": [
              "   count\n",
              "0  24073"
            ]
          },
          "execution_count": 99,
          "metadata": {},
          "output_type": "execute_result"
        }
      ],
      "source": [
        "# текст запроса\n",
        "connection = psycopg2.connect(\n",
        "    host=host,\n",
        "    port=port,\n",
        "    database=database,\n",
        "    user=user,\n",
        "    password=password\n",
        ")\n",
        "\n",
        "query_4_2 = f'''select count(*)\n",
        "                        from vacancies\n",
        "                where salary_from is not null or salary_to is not null\n",
        "                '''\n",
        "df = pd.read_sql_query(query_4_2, connection)\n",
        "connection.close()\n",
        "df.head(5)"
      ]
    },
    {
      "cell_type": "code",
      "execution_count": 100,
      "id": "rhvwaMDkoWTi",
      "metadata": {
        "id": "rhvwaMDkoWTi"
      },
      "outputs": [
        {
          "data": {
            "text/plain": [
              "array([[24073]], dtype=int64)"
            ]
          },
          "execution_count": 100,
          "metadata": {},
          "output_type": "execute_result"
        }
      ],
      "source": [
        "# результат запроса\n",
        "df.values\n",
        "# array([[24073]], dtype=int64)"
      ]
    },
    {
      "cell_type": "markdown",
      "id": "635c4d5d-f323-4c66-b428-50a088120aa0",
      "metadata": {
        "id": "635c4d5d-f323-4c66-b428-50a088120aa0"
      },
      "source": [
        "3. Найдите средние значения для нижней и верхней границы зарплатной вилки. Округлите значения до целого."
      ]
    },
    {
      "cell_type": "code",
      "execution_count": 101,
      "id": "603cdbe4-0ec3-4106-8eaf-c73fcdd29165",
      "metadata": {
        "id": "603cdbe4-0ec3-4106-8eaf-c73fcdd29165"
      },
      "outputs": [
        {
          "name": "stderr",
          "output_type": "stream",
          "text": [
            "C:\\Users\\user\\AppData\\Local\\Temp\\ipykernel_18424\\4033014717.py:15: UserWarning: pandas only supports SQLAlchemy connectable (engine/connection) or database string URI or sqlite3 DBAPI2 connection. Other DBAPI2 objects are not tested. Please consider using SQLAlchemy.\n",
            "  df = pd.read_sql_query(query_4_3, connection)\n"
          ]
        },
        {
          "data": {
            "text/html": [
              "<div>\n",
              "<style scoped>\n",
              "    .dataframe tbody tr th:only-of-type {\n",
              "        vertical-align: middle;\n",
              "    }\n",
              "\n",
              "    .dataframe tbody tr th {\n",
              "        vertical-align: top;\n",
              "    }\n",
              "\n",
              "    .dataframe thead th {\n",
              "        text-align: right;\n",
              "    }\n",
              "</style>\n",
              "<table border=\"1\" class=\"dataframe\">\n",
              "  <thead>\n",
              "    <tr style=\"text-align: right;\">\n",
              "      <th></th>\n",
              "      <th>round</th>\n",
              "      <th>round</th>\n",
              "    </tr>\n",
              "  </thead>\n",
              "  <tbody>\n",
              "    <tr>\n",
              "      <th>0</th>\n",
              "      <td>71065.0</td>\n",
              "      <td>110537.0</td>\n",
              "    </tr>\n",
              "  </tbody>\n",
              "</table>\n",
              "</div>"
            ],
            "text/plain": [
              "     round     round\n",
              "0  71065.0  110537.0"
            ]
          },
          "execution_count": 101,
          "metadata": {},
          "output_type": "execute_result"
        }
      ],
      "source": [
        "# текст запроса\n",
        "connection = psycopg2.connect(\n",
        "    host=host,\n",
        "    port=port,\n",
        "    database=database,\n",
        "    user=user,\n",
        "    password=password\n",
        ")\n",
        "\n",
        "query_4_3 = f'''select\n",
        "            \tround(avg(salary_from)),\n",
        "            \tround(avg(salary_to))\n",
        "            from vacancies\n",
        "                '''\n",
        "df = pd.read_sql_query(query_4_3, connection)\n",
        "connection.close()\n",
        "df.head(5)"
      ]
    },
    {
      "cell_type": "code",
      "execution_count": 102,
      "id": "pswpAb66ovZZ",
      "metadata": {
        "id": "pswpAb66ovZZ"
      },
      "outputs": [
        {
          "data": {
            "text/plain": [
              "array([[ 71065., 110537.]])"
            ]
          },
          "execution_count": 102,
          "metadata": {},
          "output_type": "execute_result"
        }
      ],
      "source": [
        "# результат запроса\n",
        "df.values\n",
        "# array([[ 71065., 110537.]])"
      ]
    },
    {
      "cell_type": "markdown",
      "id": "f3fdaec9-5fd3-4260-9cf5-1d7406b628a5",
      "metadata": {
        "id": "f3fdaec9-5fd3-4260-9cf5-1d7406b628a5"
      },
      "source": [
        "4. Напишите запрос, который выведет количество вакансий для каждого сочетания типа рабочего графика (schedule) и типа трудоустройства (employment), используемого в вакансиях. Результат отсортируйте по убыванию количества.\n"
      ]
    },
    {
      "cell_type": "code",
      "execution_count": 103,
      "id": "1ea710ec-871b-431e-9462-c7d0fd87011b",
      "metadata": {
        "id": "1ea710ec-871b-431e-9462-c7d0fd87011b"
      },
      "outputs": [
        {
          "name": "stderr",
          "output_type": "stream",
          "text": [
            "C:\\Users\\user\\AppData\\Local\\Temp\\ipykernel_18424\\2331741631.py:18: UserWarning: pandas only supports SQLAlchemy connectable (engine/connection) or database string URI or sqlite3 DBAPI2 connection. Other DBAPI2 objects are not tested. Please consider using SQLAlchemy.\n",
            "  df = pd.read_sql_query(query_4_4, connection)\n"
          ]
        },
        {
          "data": {
            "text/html": [
              "<div>\n",
              "<style scoped>\n",
              "    .dataframe tbody tr th:only-of-type {\n",
              "        vertical-align: middle;\n",
              "    }\n",
              "\n",
              "    .dataframe tbody tr th {\n",
              "        vertical-align: top;\n",
              "    }\n",
              "\n",
              "    .dataframe thead th {\n",
              "        text-align: right;\n",
              "    }\n",
              "</style>\n",
              "<table border=\"1\" class=\"dataframe\">\n",
              "  <thead>\n",
              "    <tr style=\"text-align: right;\">\n",
              "      <th></th>\n",
              "      <th>cnt</th>\n",
              "      <th>schedule</th>\n",
              "      <th>employment</th>\n",
              "    </tr>\n",
              "  </thead>\n",
              "  <tbody>\n",
              "    <tr>\n",
              "      <th>0</th>\n",
              "      <td>35367</td>\n",
              "      <td>Полный день</td>\n",
              "      <td>Полная занятость</td>\n",
              "    </tr>\n",
              "    <tr>\n",
              "      <th>1</th>\n",
              "      <td>7802</td>\n",
              "      <td>Удаленная работа</td>\n",
              "      <td>Полная занятость</td>\n",
              "    </tr>\n",
              "    <tr>\n",
              "      <th>2</th>\n",
              "      <td>1593</td>\n",
              "      <td>Гибкий график</td>\n",
              "      <td>Полная занятость</td>\n",
              "    </tr>\n",
              "    <tr>\n",
              "      <th>3</th>\n",
              "      <td>1312</td>\n",
              "      <td>Удаленная работа</td>\n",
              "      <td>Частичная занятость</td>\n",
              "    </tr>\n",
              "    <tr>\n",
              "      <th>4</th>\n",
              "      <td>940</td>\n",
              "      <td>Сменный график</td>\n",
              "      <td>Полная занятость</td>\n",
              "    </tr>\n",
              "    <tr>\n",
              "      <th>5</th>\n",
              "      <td>569</td>\n",
              "      <td>Полный день</td>\n",
              "      <td>Стажировка</td>\n",
              "    </tr>\n",
              "    <tr>\n",
              "      <th>6</th>\n",
              "      <td>367</td>\n",
              "      <td>Вахтовый метод</td>\n",
              "      <td>Полная занятость</td>\n",
              "    </tr>\n",
              "    <tr>\n",
              "      <th>7</th>\n",
              "      <td>347</td>\n",
              "      <td>Полный день</td>\n",
              "      <td>Частичная занятость</td>\n",
              "    </tr>\n",
              "    <tr>\n",
              "      <th>8</th>\n",
              "      <td>312</td>\n",
              "      <td>Гибкий график</td>\n",
              "      <td>Частичная занятость</td>\n",
              "    </tr>\n",
              "    <tr>\n",
              "      <th>9</th>\n",
              "      <td>141</td>\n",
              "      <td>Полный день</td>\n",
              "      <td>Проектная работа</td>\n",
              "    </tr>\n",
              "    <tr>\n",
              "      <th>10</th>\n",
              "      <td>133</td>\n",
              "      <td>Удаленная работа</td>\n",
              "      <td>Проектная работа</td>\n",
              "    </tr>\n",
              "    <tr>\n",
              "      <th>11</th>\n",
              "      <td>116</td>\n",
              "      <td>Гибкий график</td>\n",
              "      <td>Стажировка</td>\n",
              "    </tr>\n",
              "    <tr>\n",
              "      <th>12</th>\n",
              "      <td>101</td>\n",
              "      <td>Сменный график</td>\n",
              "      <td>Частичная занятость</td>\n",
              "    </tr>\n",
              "    <tr>\n",
              "      <th>13</th>\n",
              "      <td>64</td>\n",
              "      <td>Удаленная работа</td>\n",
              "      <td>Стажировка</td>\n",
              "    </tr>\n",
              "    <tr>\n",
              "      <th>14</th>\n",
              "      <td>18</td>\n",
              "      <td>Гибкий график</td>\n",
              "      <td>Проектная работа</td>\n",
              "    </tr>\n",
              "    <tr>\n",
              "      <th>15</th>\n",
              "      <td>12</td>\n",
              "      <td>Сменный график</td>\n",
              "      <td>Стажировка</td>\n",
              "    </tr>\n",
              "    <tr>\n",
              "      <th>16</th>\n",
              "      <td>2</td>\n",
              "      <td>Вахтовый метод</td>\n",
              "      <td>Проектная работа</td>\n",
              "    </tr>\n",
              "    <tr>\n",
              "      <th>17</th>\n",
              "      <td>1</td>\n",
              "      <td>Сменный график</td>\n",
              "      <td>Проектная работа</td>\n",
              "    </tr>\n",
              "  </tbody>\n",
              "</table>\n",
              "</div>"
            ],
            "text/plain": [
              "      cnt          schedule           employment\n",
              "0   35367       Полный день     Полная занятость\n",
              "1    7802  Удаленная работа     Полная занятость\n",
              "2    1593     Гибкий график     Полная занятость\n",
              "3    1312  Удаленная работа  Частичная занятость\n",
              "4     940    Сменный график     Полная занятость\n",
              "5     569       Полный день           Стажировка\n",
              "6     367    Вахтовый метод     Полная занятость\n",
              "7     347       Полный день  Частичная занятость\n",
              "8     312     Гибкий график  Частичная занятость\n",
              "9     141       Полный день     Проектная работа\n",
              "10    133  Удаленная работа     Проектная работа\n",
              "11    116     Гибкий график           Стажировка\n",
              "12    101    Сменный график  Частичная занятость\n",
              "13     64  Удаленная работа           Стажировка\n",
              "14     18     Гибкий график     Проектная работа\n",
              "15     12    Сменный график           Стажировка\n",
              "16      2    Вахтовый метод     Проектная работа\n",
              "17      1    Сменный график     Проектная работа"
            ]
          },
          "execution_count": 103,
          "metadata": {},
          "output_type": "execute_result"
        }
      ],
      "source": [
        "# текст запроса\n",
        "connection = psycopg2.connect(\n",
        "    host=host,\n",
        "    port=port,\n",
        "    database=database,\n",
        "    user=user,\n",
        "    password=password\n",
        ")\n",
        "\n",
        "query_4_4 = f'''select\n",
        "            \tcount(name) cnt,\n",
        "            \tschedule,\n",
        "            \temployment\n",
        "            from vacancies\n",
        "            group by schedule, employment\n",
        "            order by cnt desc\n",
        "                '''\n",
        "df = pd.read_sql_query(query_4_4, connection)\n",
        "connection.close()\n",
        "df.head(20)"
      ]
    },
    {
      "cell_type": "code",
      "execution_count": 104,
      "id": "lGUVqavdo4JQ",
      "metadata": {
        "id": "lGUVqavdo4JQ"
      },
      "outputs": [
        {
          "data": {
            "text/plain": [
              "array([[35367, 'Полный день', 'Полная занятость'],\n",
              "       [7802, 'Удаленная работа', 'Полная занятость'],\n",
              "       [1593, 'Гибкий график', 'Полная занятость'],\n",
              "       [1312, 'Удаленная работа', 'Частичная занятость'],\n",
              "       [940, 'Сменный график', 'Полная занятость'],\n",
              "       [569, 'Полный день', 'Стажировка'],\n",
              "       [367, 'Вахтовый метод', 'Полная занятость'],\n",
              "       [347, 'Полный день', 'Частичная занятость'],\n",
              "       [312, 'Гибкий график', 'Частичная занятость'],\n",
              "       [141, 'Полный день', 'Проектная работа'],\n",
              "       [133, 'Удаленная работа', 'Проектная работа'],\n",
              "       [116, 'Гибкий график', 'Стажировка'],\n",
              "       [101, 'Сменный график', 'Частичная занятость'],\n",
              "       [64, 'Удаленная работа', 'Стажировка'],\n",
              "       [18, 'Гибкий график', 'Проектная работа'],\n",
              "       [12, 'Сменный график', 'Стажировка'],\n",
              "       [2, 'Вахтовый метод', 'Проектная работа'],\n",
              "       [1, 'Сменный график', 'Проектная работа']], dtype=object)"
            ]
          },
          "execution_count": 104,
          "metadata": {},
          "output_type": "execute_result"
        }
      ],
      "source": [
        "# результат запроса\n",
        "df.values\n",
        "# array([[35367, 'Полный день', 'Полная занятость'],\n",
        "#        [7802, 'Удаленная работа', 'Полная занятость'],\n",
        "#        [1593, 'Гибкий график', 'Полная занятость'],\n",
        "#        [1312, 'Удаленная работа', 'Частичная занятость'],\n",
        "#        [940, 'Сменный график', 'Полная занятость'],\n",
        "#        [569, 'Полный день', 'Стажировка'],\n",
        "#        [367, 'Вахтовый метод', 'Полная занятость'],\n",
        "#        [347, 'Полный день', 'Частичная занятость'],\n",
        "#        [312, 'Гибкий график', 'Частичная занятость'],\n",
        "#        [141, 'Полный день', 'Проектная работа'],\n",
        "#        [133, 'Удаленная работа', 'Проектная работа'],\n",
        "#        [116, 'Гибкий график', 'Стажировка'],\n",
        "#        [101, 'Сменный график', 'Частичная занятость'],\n",
        "#        [64, 'Удаленная работа', 'Стажировка'],\n",
        "#        [18, 'Гибкий график', 'Проектная работа'],\n",
        "#        [12, 'Сменный график', 'Стажировка'],\n",
        "#        [2, 'Вахтовый метод', 'Проектная работа'],\n",
        "#        [1, 'Сменный график', 'Проектная работа']], dtype=object)"
      ]
    },
    {
      "cell_type": "markdown",
      "id": "0136ffee-0ead-4a6b-b608-61d1c753a438",
      "metadata": {
        "id": "0136ffee-0ead-4a6b-b608-61d1c753a438"
      },
      "source": [
        "5. Напишите запрос, выводящий значения поля Требуемый опыт работы (experience) в порядке возрастания количества вакансий, в которых указан данный вариант опыта. "
      ]
    },
    {
      "cell_type": "code",
      "execution_count": 105,
      "id": "5b3a8e79-f7ab-4008-b767-12aea3a205ea",
      "metadata": {
        "id": "5b3a8e79-f7ab-4008-b767-12aea3a205ea"
      },
      "outputs": [
        {
          "name": "stderr",
          "output_type": "stream",
          "text": [
            "C:\\Users\\user\\AppData\\Local\\Temp\\ipykernel_18424\\2574478825.py:17: UserWarning: pandas only supports SQLAlchemy connectable (engine/connection) or database string URI or sqlite3 DBAPI2 connection. Other DBAPI2 objects are not tested. Please consider using SQLAlchemy.\n",
            "  df = pd.read_sql_query(query_4_5, connection)\n"
          ]
        },
        {
          "data": {
            "text/html": [
              "<div>\n",
              "<style scoped>\n",
              "    .dataframe tbody tr th:only-of-type {\n",
              "        vertical-align: middle;\n",
              "    }\n",
              "\n",
              "    .dataframe tbody tr th {\n",
              "        vertical-align: top;\n",
              "    }\n",
              "\n",
              "    .dataframe thead th {\n",
              "        text-align: right;\n",
              "    }\n",
              "</style>\n",
              "<table border=\"1\" class=\"dataframe\">\n",
              "  <thead>\n",
              "    <tr style=\"text-align: right;\">\n",
              "      <th></th>\n",
              "      <th>experience</th>\n",
              "      <th>cnt</th>\n",
              "    </tr>\n",
              "  </thead>\n",
              "  <tbody>\n",
              "    <tr>\n",
              "      <th>0</th>\n",
              "      <td>Более 6 лет</td>\n",
              "      <td>1337</td>\n",
              "    </tr>\n",
              "    <tr>\n",
              "      <th>1</th>\n",
              "      <td>Нет опыта</td>\n",
              "      <td>7197</td>\n",
              "    </tr>\n",
              "    <tr>\n",
              "      <th>2</th>\n",
              "      <td>От 3 до 6 лет</td>\n",
              "      <td>14511</td>\n",
              "    </tr>\n",
              "    <tr>\n",
              "      <th>3</th>\n",
              "      <td>От 1 года до 3 лет</td>\n",
              "      <td>26152</td>\n",
              "    </tr>\n",
              "  </tbody>\n",
              "</table>\n",
              "</div>"
            ],
            "text/plain": [
              "           experience    cnt\n",
              "0         Более 6 лет   1337\n",
              "1           Нет опыта   7197\n",
              "2       От 3 до 6 лет  14511\n",
              "3  От 1 года до 3 лет  26152"
            ]
          },
          "execution_count": 105,
          "metadata": {},
          "output_type": "execute_result"
        }
      ],
      "source": [
        "# текст запроса\n",
        "connection = psycopg2.connect(\n",
        "    host=host,\n",
        "    port=port,\n",
        "    database=database,\n",
        "    user=user,\n",
        "    password=password\n",
        ")\n",
        "\n",
        "query_4_5 = f'''select\n",
        "            \texperience,\n",
        "            \tcount(experience) cnt\n",
        "            from vacancies\n",
        "            group by experience\n",
        "            order by cnt\n",
        "                '''\n",
        "df = pd.read_sql_query(query_4_5, connection)\n",
        "connection.close()\n",
        "df.head(20)"
      ]
    },
    {
      "cell_type": "code",
      "execution_count": 106,
      "id": "3Is64Y-hpDpq",
      "metadata": {
        "id": "3Is64Y-hpDpq"
      },
      "outputs": [
        {
          "data": {
            "text/plain": [
              "array([['Более 6 лет', 1337],\n",
              "       ['Нет опыта', 7197],\n",
              "       ['От 3 до 6 лет', 14511],\n",
              "       ['От 1 года до 3 лет', 26152]], dtype=object)"
            ]
          },
          "execution_count": 106,
          "metadata": {},
          "output_type": "execute_result"
        }
      ],
      "source": [
        "# результат запроса\n",
        "df.values\n",
        "# array([['Более 6 лет', 1337],\n",
        "#        ['Нет опыта', 7197],\n",
        "#        ['От 3 до 6 лет', 14511],\n",
        "#        ['От 1 года до 3 лет', 26152]], dtype=object)"
      ]
    },
    {
      "cell_type": "markdown",
      "id": "oq2b7n1QpIka",
      "metadata": {
        "id": "oq2b7n1QpIka"
      },
      "source": [
        "***"
      ]
    },
    {
      "attachments": {},
      "cell_type": "markdown",
      "id": "e91f87ed-e25c-4f96-9f92-b642e8c0b4fa",
      "metadata": {
        "id": "e91f87ed-e25c-4f96-9f92-b642e8c0b4fa"
      },
      "source": [
        "### Выводы по детальному анализу вакансий\n",
        "Выводы можно сделать следующие:\n",
        "- Москва и Санкт-Петербург являются лидерами по количеству вакансий в России и занимают более 80% от общего числа. Минск и Алматы - самые крупные IT центры в Беларуси и Казахстане соответственно. Новосибирск - единственный город из Сибири в топ-5 по вакансиям.\n",
        "- Примерно половина (49%) вакансий имеет заполненное хотя бы одно из двух полей с зарплатой. Это означает, что работодатели не всегда готовы раскрывать свой бюджет на определенную позицию или предлагать конкретную сумму до собеседования, вероятно это может говорить о том, что работодатели хотят точечно предлагать зарплату под каждого подходящего кандидата, в зависимости от его навыков, и диапозон может сильно отличаться.\n",
        "- Работодатели которые указали зарплату прозрачны в вопросах компенсации и хотят привлечь кандидатов, которые ищут работу именно в этом диапазоне зарплат.\n",
        "- Большинство работодателей предлагают полный день и полную занятость для IT специалистов. Это означает, что они ожидают высокого уровня ответственности и профессионализма от своих сотрудников. Удаленная работа и гибкий график стали более популярными в связи с пандемией коронавируса. Эти типы рабочего графика дают больше свободы и возможности для баланса между работой и личной жизнью.\n",
        "- Самый редкий уровень опыта - более 6 лет. Это означает, что работодатели не часто ищут экспертов или лидеров в своих командах. Самый востребованный уровень опыта - от 1 года до 3 лет. Это означает, что работодатели предпочитают специалистов среднего уровня, которые уже имеют некоторый опыт работы и могут быстро адаптироваться к новым задачам и технологиям. Уровень опыта от 3 до 6 лет занимает второе место по количеству вакансий. Это означает, что работодатели также ценят специалистов высокого уровня, которые могут решать сложные проблемы и обладают глубокими знаниями в своей области. Уровень опыта - нет опыта, занимает третье место по количеству вакансий. Это означает, что работодатели также готовы давать шанс начинающим специалистам или студентам без предыдущего опыта работы."
      ]
    },
    {
      "cell_type": "markdown",
      "id": "7ea20ab6-04a7-40a0-adec-443a0e5a42c3",
      "metadata": {
        "id": "7ea20ab6-04a7-40a0-adec-443a0e5a42c3"
      },
      "source": [
        "# Юнит 5. Анализ работодателей"
      ]
    },
    {
      "cell_type": "markdown",
      "id": "968aed80-74ef-4ffb-b5bf-c65b84e9caea",
      "metadata": {
        "id": "968aed80-74ef-4ffb-b5bf-c65b84e9caea"
      },
      "source": [
        "1. Напишите запрос, который позволит узнать, какие работодатели находятся на первом и пятом месте по количеству вакансий."
      ]
    },
    {
      "cell_type": "code",
      "execution_count": 107,
      "id": "f2d62796-d400-4ec1-a675-88112739a50e",
      "metadata": {
        "id": "f2d62796-d400-4ec1-a675-88112739a50e"
      },
      "outputs": [
        {
          "name": "stderr",
          "output_type": "stream",
          "text": [
            "C:\\Users\\user\\AppData\\Local\\Temp\\ipykernel_18424\\1581397915.py:18: UserWarning: pandas only supports SQLAlchemy connectable (engine/connection) or database string URI or sqlite3 DBAPI2 connection. Other DBAPI2 objects are not tested. Please consider using SQLAlchemy.\n",
            "  df = pd.read_sql_query(query_5_1, connection)\n"
          ]
        },
        {
          "data": {
            "text/html": [
              "<div>\n",
              "<style scoped>\n",
              "    .dataframe tbody tr th:only-of-type {\n",
              "        vertical-align: middle;\n",
              "    }\n",
              "\n",
              "    .dataframe tbody tr th {\n",
              "        vertical-align: top;\n",
              "    }\n",
              "\n",
              "    .dataframe thead th {\n",
              "        text-align: right;\n",
              "    }\n",
              "</style>\n",
              "<table border=\"1\" class=\"dataframe\">\n",
              "  <thead>\n",
              "    <tr style=\"text-align: right;\">\n",
              "      <th></th>\n",
              "      <th>name</th>\n",
              "      <th>count</th>\n",
              "    </tr>\n",
              "  </thead>\n",
              "  <tbody>\n",
              "    <tr>\n",
              "      <th>0</th>\n",
              "      <td>Яндекс</td>\n",
              "      <td>1933</td>\n",
              "    </tr>\n",
              "    <tr>\n",
              "      <th>1</th>\n",
              "      <td>Ростелеком</td>\n",
              "      <td>491</td>\n",
              "    </tr>\n",
              "    <tr>\n",
              "      <th>2</th>\n",
              "      <td>Тинькофф</td>\n",
              "      <td>444</td>\n",
              "    </tr>\n",
              "    <tr>\n",
              "      <th>3</th>\n",
              "      <td>СБЕР</td>\n",
              "      <td>428</td>\n",
              "    </tr>\n",
              "    <tr>\n",
              "      <th>4</th>\n",
              "      <td>Газпром нефть</td>\n",
              "      <td>331</td>\n",
              "    </tr>\n",
              "    <tr>\n",
              "      <th>5</th>\n",
              "      <td>ИК СИБИНТЕК</td>\n",
              "      <td>327</td>\n",
              "    </tr>\n",
              "    <tr>\n",
              "      <th>6</th>\n",
              "      <td>МТС</td>\n",
              "      <td>292</td>\n",
              "    </tr>\n",
              "    <tr>\n",
              "      <th>7</th>\n",
              "      <td>DataArt</td>\n",
              "      <td>247</td>\n",
              "    </tr>\n",
              "    <tr>\n",
              "      <th>8</th>\n",
              "      <td>Совкомбанк Технологии</td>\n",
              "      <td>204</td>\n",
              "    </tr>\n",
              "    <tr>\n",
              "      <th>9</th>\n",
              "      <td>Первый Бит</td>\n",
              "      <td>176</td>\n",
              "    </tr>\n",
              "    <tr>\n",
              "      <th>10</th>\n",
              "      <td>Ozon</td>\n",
              "      <td>175</td>\n",
              "    </tr>\n",
              "    <tr>\n",
              "      <th>11</th>\n",
              "      <td>IBS</td>\n",
              "      <td>175</td>\n",
              "    </tr>\n",
              "    <tr>\n",
              "      <th>12</th>\n",
              "      <td>Тензор</td>\n",
              "      <td>155</td>\n",
              "    </tr>\n",
              "    <tr>\n",
              "      <th>13</th>\n",
              "      <td>Andersen</td>\n",
              "      <td>155</td>\n",
              "    </tr>\n",
              "    <tr>\n",
              "      <th>14</th>\n",
              "      <td>Спецремонт</td>\n",
              "      <td>151</td>\n",
              "    </tr>\n",
              "    <tr>\n",
              "      <th>15</th>\n",
              "      <td>VK</td>\n",
              "      <td>150</td>\n",
              "    </tr>\n",
              "    <tr>\n",
              "      <th>16</th>\n",
              "      <td>Поляков Денис Иванович</td>\n",
              "      <td>127</td>\n",
              "    </tr>\n",
              "    <tr>\n",
              "      <th>17</th>\n",
              "      <td>Иннотех, Группа компаний</td>\n",
              "      <td>122</td>\n",
              "    </tr>\n",
              "    <tr>\n",
              "      <th>18</th>\n",
              "      <td>Bell Integrator</td>\n",
              "      <td>121</td>\n",
              "    </tr>\n",
              "    <tr>\n",
              "      <th>19</th>\n",
              "      <td>ANCOR</td>\n",
              "      <td>118</td>\n",
              "    </tr>\n",
              "  </tbody>\n",
              "</table>\n",
              "</div>"
            ],
            "text/plain": [
              "                        name  count\n",
              "0                     Яндекс   1933\n",
              "1                 Ростелеком    491\n",
              "2                   Тинькофф    444\n",
              "3                       СБЕР    428\n",
              "4              Газпром нефть    331\n",
              "5                ИК СИБИНТЕК    327\n",
              "6                        МТС    292\n",
              "7                    DataArt    247\n",
              "8      Совкомбанк Технологии    204\n",
              "9                 Первый Бит    176\n",
              "10                      Ozon    175\n",
              "11                       IBS    175\n",
              "12                    Тензор    155\n",
              "13                  Andersen    155\n",
              "14                Спецремонт    151\n",
              "15                        VK    150\n",
              "16    Поляков Денис Иванович    127\n",
              "17  Иннотех, Группа компаний    122\n",
              "18           Bell Integrator    121\n",
              "19                     ANCOR    118"
            ]
          },
          "execution_count": 107,
          "metadata": {},
          "output_type": "execute_result"
        }
      ],
      "source": [
        "# текст запроса\n",
        "connection = psycopg2.connect(\n",
        "    host=host,\n",
        "    port=port,\n",
        "    database=database,\n",
        "    user=user,\n",
        "    password=password\n",
        ")\n",
        "\n",
        "query_5_1 = f'''select\n",
        "                \te.name,\n",
        "                \tcount(e.name)\n",
        "                from vacancies v\n",
        "                join employers e on e.id=v.employer_id\n",
        "                group by e.name\n",
        "                order by 2 desc\n",
        "                '''\n",
        "df = pd.read_sql_query(query_5_1, connection)\n",
        "connection.close()\n",
        "df.head(20)"
      ]
    },
    {
      "cell_type": "code",
      "execution_count": 108,
      "id": "64tOMkAxqkQk",
      "metadata": {
        "id": "64tOMkAxqkQk"
      },
      "outputs": [
        {
          "data": {
            "text/plain": [
              "array([['Яндекс', 1933],\n",
              "       ['Ростелеком', 491],\n",
              "       ['Тинькофф', 444],\n",
              "       ['СБЕР', 428],\n",
              "       ['Газпром нефть', 331]], dtype=object)"
            ]
          },
          "execution_count": 108,
          "metadata": {},
          "output_type": "execute_result"
        }
      ],
      "source": [
        "# результат запроса\n",
        "df.iloc[:5].values\n",
        "# array([['Яндекс', 1933],\n",
        "#        ['Ростелеком', 491],\n",
        "#        ['Тинькофф', 444],\n",
        "#        ['СБЕР', 428],\n",
        "#        ['Газпром нефть', 331]], dtype=object)"
      ]
    },
    {
      "cell_type": "markdown",
      "id": "68377cfc-b378-43dc-ab7d-1195abf2c515",
      "metadata": {
        "id": "68377cfc-b378-43dc-ab7d-1195abf2c515"
      },
      "source": [
        "2. Напишите запрос, который для каждого региона выведет количество работодателей и вакансий в нём.\n",
        "Среди регионов, в которых нет вакансий, найдите тот, в котором наибольшее количество работодателей.\n"
      ]
    },
    {
      "cell_type": "code",
      "execution_count": 109,
      "id": "dd7df27a-e3e8-412e-a21a-5d389b71e891",
      "metadata": {
        "id": "dd7df27a-e3e8-412e-a21a-5d389b71e891"
      },
      "outputs": [
        {
          "name": "stderr",
          "output_type": "stream",
          "text": [
            "C:\\Users\\user\\AppData\\Local\\Temp\\ipykernel_18424\\782878935.py:21: UserWarning: pandas only supports SQLAlchemy connectable (engine/connection) or database string URI or sqlite3 DBAPI2 connection. Other DBAPI2 objects are not tested. Please consider using SQLAlchemy.\n",
            "  df = pd.read_sql_query(query_5_2, connection)\n"
          ]
        },
        {
          "data": {
            "text/html": [
              "<div>\n",
              "<style scoped>\n",
              "    .dataframe tbody tr th:only-of-type {\n",
              "        vertical-align: middle;\n",
              "    }\n",
              "\n",
              "    .dataframe tbody tr th {\n",
              "        vertical-align: top;\n",
              "    }\n",
              "\n",
              "    .dataframe thead th {\n",
              "        text-align: right;\n",
              "    }\n",
              "</style>\n",
              "<table border=\"1\" class=\"dataframe\">\n",
              "  <thead>\n",
              "    <tr style=\"text-align: right;\">\n",
              "      <th></th>\n",
              "      <th>area</th>\n",
              "      <th>employers</th>\n",
              "      <th>vacancies</th>\n",
              "    </tr>\n",
              "  </thead>\n",
              "  <tbody>\n",
              "    <tr>\n",
              "      <th>0</th>\n",
              "      <td>Россия</td>\n",
              "      <td>410</td>\n",
              "      <td>0</td>\n",
              "    </tr>\n",
              "    <tr>\n",
              "      <th>1</th>\n",
              "      <td>Казахстан</td>\n",
              "      <td>207</td>\n",
              "      <td>0</td>\n",
              "    </tr>\n",
              "    <tr>\n",
              "      <th>2</th>\n",
              "      <td>Московская область</td>\n",
              "      <td>75</td>\n",
              "      <td>0</td>\n",
              "    </tr>\n",
              "    <tr>\n",
              "      <th>3</th>\n",
              "      <td>Краснодарский край</td>\n",
              "      <td>19</td>\n",
              "      <td>0</td>\n",
              "    </tr>\n",
              "    <tr>\n",
              "      <th>4</th>\n",
              "      <td>Беларусь</td>\n",
              "      <td>18</td>\n",
              "      <td>0</td>\n",
              "    </tr>\n",
              "    <tr>\n",
              "      <th>5</th>\n",
              "      <td>Ростовская область</td>\n",
              "      <td>18</td>\n",
              "      <td>0</td>\n",
              "    </tr>\n",
              "    <tr>\n",
              "      <th>6</th>\n",
              "      <td>Азербайджан</td>\n",
              "      <td>17</td>\n",
              "      <td>0</td>\n",
              "    </tr>\n",
              "    <tr>\n",
              "      <th>7</th>\n",
              "      <td>Республика Татарстан</td>\n",
              "      <td>16</td>\n",
              "      <td>0</td>\n",
              "    </tr>\n",
              "    <tr>\n",
              "      <th>8</th>\n",
              "      <td>Нижегородская область</td>\n",
              "      <td>16</td>\n",
              "      <td>0</td>\n",
              "    </tr>\n",
              "    <tr>\n",
              "      <th>9</th>\n",
              "      <td>Узбекистан</td>\n",
              "      <td>15</td>\n",
              "      <td>0</td>\n",
              "    </tr>\n",
              "  </tbody>\n",
              "</table>\n",
              "</div>"
            ],
            "text/plain": [
              "                    area  employers  vacancies\n",
              "0                 Россия        410          0\n",
              "1              Казахстан        207          0\n",
              "2     Московская область         75          0\n",
              "3     Краснодарский край         19          0\n",
              "4               Беларусь         18          0\n",
              "5     Ростовская область         18          0\n",
              "6            Азербайджан         17          0\n",
              "7   Республика Татарстан         16          0\n",
              "8  Нижегородская область         16          0\n",
              "9             Узбекистан         15          0"
            ]
          },
          "execution_count": 109,
          "metadata": {},
          "output_type": "execute_result"
        }
      ],
      "source": [
        "# текст запроса\n",
        "connection = psycopg2.connect(\n",
        "    host=host,\n",
        "    port=port,\n",
        "    database=database,\n",
        "    user=user,\n",
        "    password=password\n",
        ")\n",
        "\n",
        "query_5_2 = f'''select\n",
        "                    a.name area,\n",
        "                    count(distinct e.name) employers,\n",
        "                    count(distinct v.name) vacancies\n",
        "                from areas a\n",
        "                left join employers e on a.id = e.area\n",
        "                left join vacancies v on v.area_id = a.id\n",
        "                where v.name is NULL\n",
        "                group by a.name\n",
        "                order by employers desc\n",
        "                '''\n",
        "df = pd.read_sql_query(query_5_2, connection)\n",
        "connection.close()\n",
        "df.head(10)"
      ]
    },
    {
      "cell_type": "code",
      "execution_count": 110,
      "id": "x1ikWbydrbf6",
      "metadata": {
        "id": "x1ikWbydrbf6"
      },
      "outputs": [
        {
          "data": {
            "text/plain": [
              "array([['Россия', 410, 0],\n",
              "       ['Казахстан', 207, 0],\n",
              "       ['Московская область', 75, 0],\n",
              "       ['Краснодарский край', 19, 0],\n",
              "       ['Беларусь', 18, 0],\n",
              "       ['Ростовская область', 18, 0],\n",
              "       ['Азербайджан', 17, 0],\n",
              "       ['Республика Татарстан', 16, 0],\n",
              "       ['Нижегородская область', 16, 0],\n",
              "       ['Узбекистан', 15, 0]], dtype=object)"
            ]
          },
          "execution_count": 110,
          "metadata": {},
          "output_type": "execute_result"
        }
      ],
      "source": [
        "# результат запроса\n",
        "df.iloc[:10].values\n",
        "# array([['Россия', 410, 0],\n",
        "#        ['Казахстан', 207, 0],\n",
        "#        ['Московская область', 75, 0],\n",
        "#        ['Краснодарский край', 19, 0],\n",
        "#        ['Беларусь', 18, 0],\n",
        "#        ['Ростовская область', 18, 0],\n",
        "#        ['Азербайджан', 17, 0],\n",
        "#        ['Республика Татарстан', 16, 0],\n",
        "#        ['Нижегородская область', 16, 0],\n",
        "#        ['Узбекистан', 15, 0]], dtype=object)"
      ]
    },
    {
      "cell_type": "markdown",
      "id": "f2fe0acb-ab1a-4e15-9326-2560e22d73c1",
      "metadata": {
        "id": "f2fe0acb-ab1a-4e15-9326-2560e22d73c1"
      },
      "source": [
        "3. Для каждого работодателя посчитайте количество регионов, в которых он публикует свои вакансии. Отсортируйте результат по убыванию количества.\n"
      ]
    },
    {
      "cell_type": "code",
      "execution_count": 111,
      "id": "6271f8ad-bd2e-4196-ae4a-5b39c4c1010e",
      "metadata": {
        "id": "6271f8ad-bd2e-4196-ae4a-5b39c4c1010e"
      },
      "outputs": [
        {
          "name": "stderr",
          "output_type": "stream",
          "text": [
            "C:\\Users\\user\\AppData\\Local\\Temp\\ipykernel_18424\\3131675368.py:18: UserWarning: pandas only supports SQLAlchemy connectable (engine/connection) or database string URI or sqlite3 DBAPI2 connection. Other DBAPI2 objects are not tested. Please consider using SQLAlchemy.\n",
            "  df = pd.read_sql_query(query_5_3, connection)\n"
          ]
        },
        {
          "data": {
            "text/html": [
              "<div>\n",
              "<style scoped>\n",
              "    .dataframe tbody tr th:only-of-type {\n",
              "        vertical-align: middle;\n",
              "    }\n",
              "\n",
              "    .dataframe tbody tr th {\n",
              "        vertical-align: top;\n",
              "    }\n",
              "\n",
              "    .dataframe thead th {\n",
              "        text-align: right;\n",
              "    }\n",
              "</style>\n",
              "<table border=\"1\" class=\"dataframe\">\n",
              "  <thead>\n",
              "    <tr style=\"text-align: right;\">\n",
              "      <th></th>\n",
              "      <th>name_rabotodatel</th>\n",
              "      <th>count_region</th>\n",
              "    </tr>\n",
              "  </thead>\n",
              "  <tbody>\n",
              "    <tr>\n",
              "      <th>0</th>\n",
              "      <td>Яндекс</td>\n",
              "      <td>181</td>\n",
              "    </tr>\n",
              "    <tr>\n",
              "      <th>1</th>\n",
              "      <td>Ростелеком</td>\n",
              "      <td>152</td>\n",
              "    </tr>\n",
              "    <tr>\n",
              "      <th>2</th>\n",
              "      <td>Спецремонт</td>\n",
              "      <td>116</td>\n",
              "    </tr>\n",
              "    <tr>\n",
              "      <th>3</th>\n",
              "      <td>Поляков Денис Иванович</td>\n",
              "      <td>88</td>\n",
              "    </tr>\n",
              "    <tr>\n",
              "      <th>4</th>\n",
              "      <td>ООО ЕФИН</td>\n",
              "      <td>71</td>\n",
              "    </tr>\n",
              "    <tr>\n",
              "      <th>5</th>\n",
              "      <td>Совкомбанк</td>\n",
              "      <td>63</td>\n",
              "    </tr>\n",
              "    <tr>\n",
              "      <th>6</th>\n",
              "      <td>МТС</td>\n",
              "      <td>55</td>\n",
              "    </tr>\n",
              "    <tr>\n",
              "      <th>7</th>\n",
              "      <td>ЭФКО, Управляющая компания</td>\n",
              "      <td>49</td>\n",
              "    </tr>\n",
              "    <tr>\n",
              "      <th>8</th>\n",
              "      <td>Почта России</td>\n",
              "      <td>48</td>\n",
              "    </tr>\n",
              "    <tr>\n",
              "      <th>9</th>\n",
              "      <td>КРОН</td>\n",
              "      <td>48</td>\n",
              "    </tr>\n",
              "  </tbody>\n",
              "</table>\n",
              "</div>"
            ],
            "text/plain": [
              "             name_rabotodatel  count_region\n",
              "0                      Яндекс           181\n",
              "1                  Ростелеком           152\n",
              "2                  Спецремонт           116\n",
              "3      Поляков Денис Иванович            88\n",
              "4                   ООО ЕФИН             71\n",
              "5                  Совкомбанк            63\n",
              "6                         МТС            55\n",
              "7  ЭФКО, Управляющая компания            49\n",
              "8                Почта России            48\n",
              "9                        КРОН            48"
            ]
          },
          "execution_count": 111,
          "metadata": {},
          "output_type": "execute_result"
        }
      ],
      "source": [
        "# текст запроса\n",
        "connection = psycopg2.connect(\n",
        "    host=host,\n",
        "    port=port,\n",
        "    database=database,\n",
        "    user=user,\n",
        "    password=password\n",
        ")\n",
        "\n",
        "query_5_3 = f'''select\n",
        "                    e.name Name_rabotodatel,\n",
        "                    count(distinct v.area_id) Count_region\n",
        "                from vacancies v\n",
        "                left join employers e on e.id = v.employer_id\n",
        "                group by e.name\n",
        "                order by 2 desc\n",
        "                '''\n",
        "df = pd.read_sql_query(query_5_3, connection)\n",
        "connection.close()\n",
        "df.head(10)"
      ]
    },
    {
      "cell_type": "code",
      "execution_count": 112,
      "id": "1EIvX3HasH4F",
      "metadata": {
        "id": "1EIvX3HasH4F"
      },
      "outputs": [
        {
          "data": {
            "text/plain": [
              "array([['Яндекс', 181],\n",
              "       ['Ростелеком', 152],\n",
              "       ['Спецремонт', 116],\n",
              "       ['Поляков Денис Иванович', 88],\n",
              "       ['ООО ЕФИН ', 71],\n",
              "       ['Совкомбанк', 63],\n",
              "       ['МТС', 55],\n",
              "       ['ЭФКО, Управляющая компания', 49],\n",
              "       ['Почта России', 48],\n",
              "       ['КРОН', 48]], dtype=object)"
            ]
          },
          "execution_count": 112,
          "metadata": {},
          "output_type": "execute_result"
        }
      ],
      "source": [
        "# результат запроса\n",
        "df.iloc[:10].values\n",
        "# array([['Яндекс', 181],\n",
        "#        ['Ростелеком', 152],\n",
        "#        ['Спецремонт', 116],\n",
        "#        ['Поляков Денис Иванович', 88],\n",
        "#        ['ООО ЕФИН ', 71],\n",
        "#        ['Совкомбанк', 63],\n",
        "#        ['МТС', 55],\n",
        "#        ['ЭФКО, Управляющая компания', 49],\n",
        "#        ['Почта России', 48],\n",
        "#        ['КРОН', 48]], dtype=object)"
      ]
    },
    {
      "cell_type": "markdown",
      "id": "eab2206d-d95b-468b-8e5f-34381abf0ce7",
      "metadata": {
        "id": "eab2206d-d95b-468b-8e5f-34381abf0ce7"
      },
      "source": [
        "4. Напишите запрос для подсчёта количества работодателей, у которых не указана сфера деятельности. "
      ]
    },
    {
      "cell_type": "code",
      "execution_count": 113,
      "id": "80defb23-bfb1-4a18-8be6-bf36aa7165d5",
      "metadata": {
        "id": "80defb23-bfb1-4a18-8be6-bf36aa7165d5"
      },
      "outputs": [
        {
          "name": "stderr",
          "output_type": "stream",
          "text": [
            "C:\\Users\\user\\AppData\\Local\\Temp\\ipykernel_18424\\952322376.py:16: UserWarning: pandas only supports SQLAlchemy connectable (engine/connection) or database string URI or sqlite3 DBAPI2 connection. Other DBAPI2 objects are not tested. Please consider using SQLAlchemy.\n",
            "  df = pd.read_sql_query(query_5_4, connection)\n"
          ]
        },
        {
          "data": {
            "text/html": [
              "<div>\n",
              "<style scoped>\n",
              "    .dataframe tbody tr th:only-of-type {\n",
              "        vertical-align: middle;\n",
              "    }\n",
              "\n",
              "    .dataframe tbody tr th {\n",
              "        vertical-align: top;\n",
              "    }\n",
              "\n",
              "    .dataframe thead th {\n",
              "        text-align: right;\n",
              "    }\n",
              "</style>\n",
              "<table border=\"1\" class=\"dataframe\">\n",
              "  <thead>\n",
              "    <tr style=\"text-align: right;\">\n",
              "      <th></th>\n",
              "      <th>count</th>\n",
              "    </tr>\n",
              "  </thead>\n",
              "  <tbody>\n",
              "    <tr>\n",
              "      <th>0</th>\n",
              "      <td>8419</td>\n",
              "    </tr>\n",
              "  </tbody>\n",
              "</table>\n",
              "</div>"
            ],
            "text/plain": [
              "   count\n",
              "0   8419"
            ]
          },
          "execution_count": 113,
          "metadata": {},
          "output_type": "execute_result"
        }
      ],
      "source": [
        "# текст запроса\n",
        "connection = psycopg2.connect(\n",
        "    host=host,\n",
        "    port=port,\n",
        "    database=database,\n",
        "    user=user,\n",
        "    password=password\n",
        ")\n",
        "\n",
        "query_5_4 = f'''select\n",
        "                    count(*)\n",
        "                from employers e\n",
        "                left join EMPLOYERS_INDUSTRIES es on e.id = es.employer_id\n",
        "                where es.industry_id is NULL\n",
        "                '''\n",
        "df = pd.read_sql_query(query_5_4, connection)\n",
        "connection.close()\n",
        "df.head(10)"
      ]
    },
    {
      "cell_type": "code",
      "execution_count": 114,
      "id": "Dp_yCx6ysQSu",
      "metadata": {
        "id": "Dp_yCx6ysQSu"
      },
      "outputs": [
        {
          "data": {
            "text/plain": [
              "array([[8419]], dtype=int64)"
            ]
          },
          "execution_count": 114,
          "metadata": {},
          "output_type": "execute_result"
        }
      ],
      "source": [
        "# результат запроса\n",
        "df.values\n",
        "# array([[8419]], dtype=int64)"
      ]
    },
    {
      "cell_type": "markdown",
      "id": "0112af31-f6b0-4e3b-82ab-71296e752e5e",
      "metadata": {
        "id": "0112af31-f6b0-4e3b-82ab-71296e752e5e"
      },
      "source": [
        "5. Напишите запрос, чтобы узнать название компании, находящейся на третьем месте в алфавитном списке (по названию) компаний, у которых указано четыре сферы деятельности. "
      ]
    },
    {
      "cell_type": "code",
      "execution_count": 115,
      "id": "973b0cfc-a972-470a-8b4a-68744ef220c4",
      "metadata": {
        "id": "973b0cfc-a972-470a-8b4a-68744ef220c4"
      },
      "outputs": [
        {
          "name": "stderr",
          "output_type": "stream",
          "text": [
            "C:\\Users\\user\\AppData\\Local\\Temp\\ipykernel_18424\\1431302077.py:19: UserWarning: pandas only supports SQLAlchemy connectable (engine/connection) or database string URI or sqlite3 DBAPI2 connection. Other DBAPI2 objects are not tested. Please consider using SQLAlchemy.\n",
            "  df = pd.read_sql_query(query_5_5, connection)\n"
          ]
        },
        {
          "data": {
            "text/html": [
              "<div>\n",
              "<style scoped>\n",
              "    .dataframe tbody tr th:only-of-type {\n",
              "        vertical-align: middle;\n",
              "    }\n",
              "\n",
              "    .dataframe tbody tr th {\n",
              "        vertical-align: top;\n",
              "    }\n",
              "\n",
              "    .dataframe thead th {\n",
              "        text-align: right;\n",
              "    }\n",
              "</style>\n",
              "<table border=\"1\" class=\"dataframe\">\n",
              "  <thead>\n",
              "    <tr style=\"text-align: right;\">\n",
              "      <th></th>\n",
              "      <th>name</th>\n",
              "      <th>count</th>\n",
              "    </tr>\n",
              "  </thead>\n",
              "  <tbody>\n",
              "    <tr>\n",
              "      <th>0</th>\n",
              "      <td>101 Интернет</td>\n",
              "      <td>4</td>\n",
              "    </tr>\n",
              "    <tr>\n",
              "      <th>1</th>\n",
              "      <td>21vek.by</td>\n",
              "      <td>4</td>\n",
              "    </tr>\n",
              "    <tr>\n",
              "      <th>2</th>\n",
              "      <td>2ГИС</td>\n",
              "      <td>4</td>\n",
              "    </tr>\n",
              "  </tbody>\n",
              "</table>\n",
              "</div>"
            ],
            "text/plain": [
              "           name  count\n",
              "0  101 Интернет      4\n",
              "1      21vek.by      4\n",
              "2          2ГИС      4"
            ]
          },
          "execution_count": 115,
          "metadata": {},
          "output_type": "execute_result"
        }
      ],
      "source": [
        "# текст запроса\n",
        "connection = psycopg2.connect(\n",
        "    host=host,\n",
        "    port=port,\n",
        "    database=database,\n",
        "    user=user,\n",
        "    password=password\n",
        ")\n",
        "\n",
        "query_5_5 = f'''select\n",
        "                \tname,\n",
        "                \tcount(industry_id)\n",
        "                from employers e\n",
        "                left join EMPLOYERS_INDUSTRIES es on e.id = es.employer_id\n",
        "                group by name\n",
        "                having count(es.industry_id) = 4\n",
        "                order by name\n",
        "                '''\n",
        "df = pd.read_sql_query(query_5_5, connection)\n",
        "connection.close()\n",
        "df.head(3)"
      ]
    },
    {
      "cell_type": "code",
      "execution_count": 116,
      "id": "xsPtpp8EsaED",
      "metadata": {
        "id": "xsPtpp8EsaED"
      },
      "outputs": [
        {
          "data": {
            "text/plain": [
              "array([['101 Интернет', 4],\n",
              "       ['21vek.by', 4],\n",
              "       ['2ГИС', 4]], dtype=object)"
            ]
          },
          "execution_count": 116,
          "metadata": {},
          "output_type": "execute_result"
        }
      ],
      "source": [
        "# результат запроса\n",
        "df.iloc[:3].values\n",
        "# array([['101 Интернет', 4],\n",
        "#        ['21vek.by', 4],\n",
        "#        ['2ГИС', 4]], dtype=object)"
      ]
    },
    {
      "cell_type": "markdown",
      "id": "3bfcfdaf-755d-4d2b-8ed8-326201dc07ab",
      "metadata": {
        "id": "3bfcfdaf-755d-4d2b-8ed8-326201dc07ab"
      },
      "source": [
        "6. С помощью запроса выясните, у какого количества работодателей в качестве сферы деятельности указана Разработка программного обеспечения.\n"
      ]
    },
    {
      "cell_type": "code",
      "execution_count": 117,
      "id": "ad3f270f-2991-47eb-929b-e8f88a55b0d1",
      "metadata": {
        "id": "ad3f270f-2991-47eb-929b-e8f88a55b0d1"
      },
      "outputs": [
        {
          "name": "stderr",
          "output_type": "stream",
          "text": [
            "C:\\Users\\user\\AppData\\Local\\Temp\\ipykernel_18424\\2074747843.py:16: UserWarning: pandas only supports SQLAlchemy connectable (engine/connection) or database string URI or sqlite3 DBAPI2 connection. Other DBAPI2 objects are not tested. Please consider using SQLAlchemy.\n",
            "  df = pd.read_sql_query(query_5_6, connection)\n"
          ]
        },
        {
          "data": {
            "text/html": [
              "<div>\n",
              "<style scoped>\n",
              "    .dataframe tbody tr th:only-of-type {\n",
              "        vertical-align: middle;\n",
              "    }\n",
              "\n",
              "    .dataframe tbody tr th {\n",
              "        vertical-align: top;\n",
              "    }\n",
              "\n",
              "    .dataframe thead th {\n",
              "        text-align: right;\n",
              "    }\n",
              "</style>\n",
              "<table border=\"1\" class=\"dataframe\">\n",
              "  <thead>\n",
              "    <tr style=\"text-align: right;\">\n",
              "      <th></th>\n",
              "      <th>count</th>\n",
              "    </tr>\n",
              "  </thead>\n",
              "  <tbody>\n",
              "    <tr>\n",
              "      <th>0</th>\n",
              "      <td>3553</td>\n",
              "    </tr>\n",
              "  </tbody>\n",
              "</table>\n",
              "</div>"
            ],
            "text/plain": [
              "   count\n",
              "0   3553"
            ]
          },
          "execution_count": 117,
          "metadata": {},
          "output_type": "execute_result"
        }
      ],
      "source": [
        "# текст запроса\n",
        "connection = psycopg2.connect(\n",
        "    host=host,\n",
        "    port=port,\n",
        "    database=database,\n",
        "    user=user,\n",
        "    password=password\n",
        ")\n",
        "\n",
        "query_5_6 = f'''select count(*)\n",
        "                from employers e\n",
        "                left join employers_industries ei on ei.employer_id = e.id\n",
        "                left join industries i on ei.industry_id = i.id\n",
        "                where i.name = 'Разработка программного обеспечения'\n",
        "                '''\n",
        "df = pd.read_sql_query(query_5_6, connection)\n",
        "connection.close()\n",
        "df.head(3)"
      ]
    },
    {
      "cell_type": "code",
      "execution_count": 118,
      "id": "H72qxWM0shPR",
      "metadata": {
        "id": "H72qxWM0shPR"
      },
      "outputs": [
        {
          "data": {
            "text/plain": [
              "array([[3553]], dtype=int64)"
            ]
          },
          "execution_count": 118,
          "metadata": {},
          "output_type": "execute_result"
        }
      ],
      "source": [
        "# результат запроса\n",
        "df.values\n",
        "# array([[3553]], dtype=int64)"
      ]
    },
    {
      "cell_type": "markdown",
      "id": "7b02bb86-0546-40fb-94a4-242f050a5c57",
      "metadata": {
        "id": "7b02bb86-0546-40fb-94a4-242f050a5c57"
      },
      "source": [
        "7. Для компании «Яндекс» выведите список регионов-миллионников, в которых представлены вакансии компании, вместе с количеством вакансий в этих регионах. Также добавьте строку Total с общим количеством вакансий компании. Результат отсортируйте по возрастанию количества.\n",
        "\n",
        "Список городов-милионников надо взять [отсюда](https://ru.wikipedia.org/wiki/%D0%93%D0%BE%D1%80%D0%BE%D0%B4%D0%B0-%D0%BC%D0%B8%D0%BB%D0%BB%D0%B8%D0%BE%D0%BD%D0%B5%D1%80%D1%8B_%D0%A0%D0%BE%D1%81%D1%81%D0%B8%D0%B8). \n",
        "\n",
        "Если возникнут трудности с этим задание посмотрите материалы модуля  PYTHON-17. Как получать данные из веб-источников и API. "
      ]
    },
    {
      "cell_type": "code",
      "execution_count": 119,
      "id": "ZdfrL6gIs1Pn",
      "metadata": {
        "id": "ZdfrL6gIs1Pn"
      },
      "outputs": [
        {
          "name": "stdout",
          "output_type": "stream",
          "text": [
            "('Москва', 'Санкт-Петербург', 'Новосибирск', 'Екатеринбург', 'Казань', 'Нижний Новгород', 'Челябинск', 'Красноярск', 'Самара', 'Уфа', 'Ростов-на-Дону', 'Омск', 'Краснодар', 'Воронеж', 'Пермь', 'Волгоград')\n"
          ]
        }
      ],
      "source": [
        "# код для получения списка городов-милионников\n",
        "\n",
        "# Импортируем библиотеку для работы с веб-страницами\n",
        "import requests\n",
        "# Импортируем библиотеку для парсинга HTML\n",
        "from bs4 import BeautifulSoup\n",
        "\n",
        "# Задаем ссылку на веб-страницу\n",
        "url = \"https://ru.wikipedia.org/wiki/%D0%93%D0%BE%D1%80%D0%BE%D0%B4%D0%B0-%D0%BC%D0%B8%D0%BB%D0%BB%D0%B8%D0%BE%D0%BD%D0%B5%D1%80%D1%8B_%D0%A0%D0%BE%D1%81%D1%81%D0%B8%D0%B8\"\n",
        "\n",
        "# Получаем содержимое веб-страницы\n",
        "response = requests.get(url)\n",
        "\n",
        "# Проверяем статус ответа\n",
        "if response.status_code == 200:\n",
        "    # Преобразуем содержимое веб-страницы в объект BeautifulSoup\n",
        "    soup = BeautifulSoup(response.text, \"html.parser\")\n",
        "    # Находим таблицу с данными о городах-милионниках используя индекс таблицы\n",
        "    table = soup.find_all('table')[1]\n",
        "    # Находим все строки таблицы\n",
        "    rows = table.find_all(\"tr\")\n",
        "    # Создаем пустой список для хранения названий городов\n",
        "    cities = []\n",
        "    # Проходим по всем строкам таблицы, начиная со второй (первая - заголовок)\n",
        "    for row in rows[1:]:\n",
        "        # Находим все ячейки строки\n",
        "        cells = row.find_all(\"td\")\n",
        "        # Получаем название города из первой ячейки строки и удаляем пробелы и переносы строк по краям\n",
        "        city = cells[1].text.strip()\n",
        "        # Добавляем название города в список\n",
        "        cities.append(city)\n",
        "else:\n",
        "    # Выводим сообщение об ошибке, если статус ответа не равен 200 (OK)\n",
        "    print(f\"Ошибка при получении данных: {response.status_code}\")\n",
        "\n",
        "# Проходим по всем элементам списка\n",
        "for i in range(len(cities)):\n",
        "    # Если элемент содержит \"[a]\"\n",
        "    if \"[a]\" in cities[i]:\n",
        "        # Заменяем \"[a]\" на пустую строку\n",
        "        cities[i] = cities[i].replace(\"[a]\", \"\")\n",
        "# Преобразуем список в кортеж\n",
        "cities = tuple(cities)\n",
        "# Выводим измененный список на экран\n",
        "print(cities)"
      ]
    },
    {
      "cell_type": "code",
      "execution_count": 120,
      "id": "5a0e32a4-e68a-4365-8a39-2fe24c542c36",
      "metadata": {
        "id": "5a0e32a4-e68a-4365-8a39-2fe24c542c36"
      },
      "outputs": [
        {
          "name": "stderr",
          "output_type": "stream",
          "text": [
            "C:\\Users\\user\\AppData\\Local\\Temp\\ipykernel_18424\\329275006.py:24: UserWarning: pandas only supports SQLAlchemy connectable (engine/connection) or database string URI or sqlite3 DBAPI2 connection. Other DBAPI2 objects are not tested. Please consider using SQLAlchemy.\n",
            "  df = pd.read_sql_query(query_5_7, connection)\n"
          ]
        },
        {
          "data": {
            "text/html": [
              "<div>\n",
              "<style scoped>\n",
              "    .dataframe tbody tr th:only-of-type {\n",
              "        vertical-align: middle;\n",
              "    }\n",
              "\n",
              "    .dataframe tbody tr th {\n",
              "        vertical-align: top;\n",
              "    }\n",
              "\n",
              "    .dataframe thead th {\n",
              "        text-align: right;\n",
              "    }\n",
              "</style>\n",
              "<table border=\"1\" class=\"dataframe\">\n",
              "  <thead>\n",
              "    <tr style=\"text-align: right;\">\n",
              "      <th></th>\n",
              "      <th>name</th>\n",
              "      <th>cnt</th>\n",
              "    </tr>\n",
              "  </thead>\n",
              "  <tbody>\n",
              "    <tr>\n",
              "      <th>0</th>\n",
              "      <td>Омск</td>\n",
              "      <td>21.0</td>\n",
              "    </tr>\n",
              "    <tr>\n",
              "      <th>1</th>\n",
              "      <td>Челябинск</td>\n",
              "      <td>22.0</td>\n",
              "    </tr>\n",
              "    <tr>\n",
              "      <th>2</th>\n",
              "      <td>Красноярск</td>\n",
              "      <td>23.0</td>\n",
              "    </tr>\n",
              "    <tr>\n",
              "      <th>3</th>\n",
              "      <td>Волгоград</td>\n",
              "      <td>24.0</td>\n",
              "    </tr>\n",
              "    <tr>\n",
              "      <th>4</th>\n",
              "      <td>Пермь</td>\n",
              "      <td>25.0</td>\n",
              "    </tr>\n",
              "    <tr>\n",
              "      <th>5</th>\n",
              "      <td>Казань</td>\n",
              "      <td>25.0</td>\n",
              "    </tr>\n",
              "    <tr>\n",
              "      <th>6</th>\n",
              "      <td>Ростов-на-Дону</td>\n",
              "      <td>25.0</td>\n",
              "    </tr>\n",
              "    <tr>\n",
              "      <th>7</th>\n",
              "      <td>Уфа</td>\n",
              "      <td>26.0</td>\n",
              "    </tr>\n",
              "    <tr>\n",
              "      <th>8</th>\n",
              "      <td>Самара</td>\n",
              "      <td>26.0</td>\n",
              "    </tr>\n",
              "    <tr>\n",
              "      <th>9</th>\n",
              "      <td>Краснодар</td>\n",
              "      <td>30.0</td>\n",
              "    </tr>\n",
              "    <tr>\n",
              "      <th>10</th>\n",
              "      <td>Воронеж</td>\n",
              "      <td>32.0</td>\n",
              "    </tr>\n",
              "    <tr>\n",
              "      <th>11</th>\n",
              "      <td>Новосибирск</td>\n",
              "      <td>35.0</td>\n",
              "    </tr>\n",
              "    <tr>\n",
              "      <th>12</th>\n",
              "      <td>Нижний Новгород</td>\n",
              "      <td>36.0</td>\n",
              "    </tr>\n",
              "    <tr>\n",
              "      <th>13</th>\n",
              "      <td>Екатеринбург</td>\n",
              "      <td>39.0</td>\n",
              "    </tr>\n",
              "    <tr>\n",
              "      <th>14</th>\n",
              "      <td>Санкт-Петербург</td>\n",
              "      <td>42.0</td>\n",
              "    </tr>\n",
              "    <tr>\n",
              "      <th>15</th>\n",
              "      <td>Москва</td>\n",
              "      <td>54.0</td>\n",
              "    </tr>\n",
              "    <tr>\n",
              "      <th>16</th>\n",
              "      <td>Total</td>\n",
              "      <td>485.0</td>\n",
              "    </tr>\n",
              "  </tbody>\n",
              "</table>\n",
              "</div>"
            ],
            "text/plain": [
              "               name    cnt\n",
              "0              Омск   21.0\n",
              "1         Челябинск   22.0\n",
              "2        Красноярск   23.0\n",
              "3         Волгоград   24.0\n",
              "4             Пермь   25.0\n",
              "5            Казань   25.0\n",
              "6    Ростов-на-Дону   25.0\n",
              "7               Уфа   26.0\n",
              "8            Самара   26.0\n",
              "9         Краснодар   30.0\n",
              "10          Воронеж   32.0\n",
              "11      Новосибирск   35.0\n",
              "12  Нижний Новгород   36.0\n",
              "13     Екатеринбург   39.0\n",
              "14  Санкт-Петербург   42.0\n",
              "15           Москва   54.0\n",
              "16            Total  485.0"
            ]
          },
          "execution_count": 120,
          "metadata": {},
          "output_type": "execute_result"
        }
      ],
      "source": [
        "# текст запроса\n",
        "connection = psycopg2.connect(\n",
        "    host=host,\n",
        "    port=port,\n",
        "    database=database,\n",
        "    user=user,\n",
        "    password=password\n",
        ")\n",
        "\n",
        "query_5_7 = f'''WITH temp AS(\n",
        "                        select\n",
        "                        \ta.name,\n",
        "                        \tcount(*) cnt\n",
        "                        from vacancies v\n",
        "                        left join areas a on v.area_id=a.id\n",
        "                        left join employers e on v.employer_id=e.id\n",
        "                        where e.name='Яндекс' and a.name in {cities}\n",
        "                        group by a.name\n",
        "                        order by 2)\n",
        "                SELECT *  FROM temp\n",
        "                UNION ALL\n",
        "                SELECT 'Total', sum(cnt)  FROM temp\n",
        "                '''\n",
        "df = pd.read_sql_query(query_5_7, connection)\n",
        "connection.close()\n",
        "df.head(20)"
      ]
    },
    {
      "cell_type": "code",
      "execution_count": 121,
      "id": "ttPhiO1rsvPq",
      "metadata": {
        "id": "ttPhiO1rsvPq"
      },
      "outputs": [
        {
          "data": {
            "text/plain": [
              "array([['Омск', 21.0],\n",
              "       ['Челябинск', 22.0],\n",
              "       ['Красноярск', 23.0],\n",
              "       ['Волгоград', 24.0],\n",
              "       ['Пермь', 25.0],\n",
              "       ['Казань', 25.0],\n",
              "       ['Ростов-на-Дону', 25.0],\n",
              "       ['Уфа', 26.0],\n",
              "       ['Самара', 26.0],\n",
              "       ['Краснодар', 30.0],\n",
              "       ['Воронеж', 32.0],\n",
              "       ['Новосибирск', 35.0],\n",
              "       ['Нижний Новгород', 36.0],\n",
              "       ['Екатеринбург', 39.0],\n",
              "       ['Санкт-Петербург', 42.0],\n",
              "       ['Москва', 54.0],\n",
              "       ['Total', 485.0]], dtype=object)"
            ]
          },
          "execution_count": 121,
          "metadata": {},
          "output_type": "execute_result"
        }
      ],
      "source": [
        "# результат запроса\n",
        "df.iloc[:20].values\n",
        "# array([['Омск', 21.0],\n",
        "#        ['Челябинск', 22.0],\n",
        "#        ['Красноярск', 23.0],\n",
        "#        ['Волгоград', 24.0],\n",
        "#        ['Пермь', 25.0],\n",
        "#        ['Казань', 25.0],\n",
        "#        ['Ростов-на-Дону', 25.0],\n",
        "#        ['Уфа', 26.0],\n",
        "#        ['Самара', 26.0],\n",
        "#        ['Краснодар', 30.0],\n",
        "#        ['Воронеж', 32.0],\n",
        "#        ['Новосибирск', 35.0],\n",
        "#        ['Нижний Новгород', 36.0],\n",
        "#        ['Екатеринбург', 39.0],\n",
        "#        ['Санкт-Петербург', 42.0],\n",
        "#        ['Москва', 54.0],\n",
        "#        ['Total', 485.0]], dtype=object)"
      ]
    },
    {
      "cell_type": "markdown",
      "id": "04966e40-3bc3-4dc8-9ba2-e80580ce3abc",
      "metadata": {
        "id": "04966e40-3bc3-4dc8-9ba2-e80580ce3abc"
      },
      "source": [
        "***"
      ]
    },
    {
      "attachments": {},
      "cell_type": "markdown",
      "id": "aGGyER-yt4SR",
      "metadata": {
        "id": "aGGyER-yt4SR"
      },
      "source": [
        "### Выводы по анализу работодателей\n",
        "Выводы можно сделать следующие:\n",
        "- Самое большое количество вакансий мы видем у Яндекса, это говорит о том что Яндекс уже достаточно давно на рынке и у них очень много продуктов и проектов, поэтому им требуется так много специалистов.\n",
        "- Рынок труда в регионе, с большим количеством работодателей, но небольшим количеством вакансий, может быть особенно сложным. Это может быть связано с различными факторами, такими как отсутствие экономического роста, низкий спрос на определенные виды работ или высокая конкуренция на рынке труда. Работодатели в этом регионе, возможно, больше сосредоточены на сохранении имеющейся рабочей силы, чем на расширении и найме новых сотрудников. Это может быть вызвано различными причинами, такими как напряженный рынок труда, высокая текучесть кадров или ориентация на эффективность, а не на рост. Также в регионе может быть большое количество малых предприятий или стартапов, которые еще не достигли той стадии, когда они нанимают новых сотрудников.\n",
        "- Опять же мы видим что Яндекс находится в лидерах по количеству регионов публикуемых вакансий и является самым активным работодателем, что может свидетельствовать об их широкой географической деятельности и потребности в различных специалистах.\n",
        "- 8419 - столь большое количество работодателей, у которых не указана сфера деятельности, может быть связано с разными причинами, например: Работодатели не хотят раскрывать свою конфиденциальную информацию или конкурентные преимущества; Работодатели не знают, как правильно классифицировать свою сферу деятельности или не находят подходящую категорию в списке.\n",
        "- Количество компаний, у которых указано четыре сферы деятельности - это 1136 из общего количества 23501. Это составляет около 4.8% от всех работодателей. Это может говорить о том, что эти компании имеют более широкий спектр деятельности или более сложную структуру организации по сравнению с другими работодателями.\n",
        "- Количество работодателей, у которых в качестве сферы деятельности указана «Разработка программного обеспечения» - это 3553 из общего количества 23501. Это составляет около 15.1% от всех работодателей. Это может говорить о том, что разработка программного обеспечения является одной из самых популярных и востребованных сфер деятельности на рынке труда. Разработка программного обеспечения может быть связана с разными отраслями и направлениями, такими как информационные технологии, интернет-сервисы, игровая индустрия, финансовые технологии и другие. Это может говорить о том, что работодатели из этих сфер нуждаются в квалифицированных специалистах по разработке программного обеспечения для решения своих задач и целей.\n",
        "- По пунку 7, можно сделать следующие выводы:\n",
        "    - Яндекс предлагает вакансии во всех городах-миллионниках России.\n",
        "    - Больше всего вакансий Яндекса в Москве и Санкт-Петербурге, что соответствует статусу этих городов как крупных экономических и научных центров.\n",
        "    - Меньше всего вакансий Яндекса в Омске и Челябинске, что может быть связано с меньшим спросом на услуги Яндекса или конкуренцией с другими компаниями в этих регионах.\n",
        "    - Общее количество вакансий Яндекса составляет 485, что свидетельствует о том, что компания активно развивается и нуждается в новых сотрудниках."
      ]
    },
    {
      "cell_type": "markdown",
      "id": "b1ef156a-efcb-49ce-bb23-90763e7f35b2",
      "metadata": {
        "id": "b1ef156a-efcb-49ce-bb23-90763e7f35b2",
        "tags": []
      },
      "source": [
        "# Юнит 6. Предметный анализ"
      ]
    },
    {
      "cell_type": "markdown",
      "id": "b9cd50a0-992d-4988-8463-2b2b1c4629b4",
      "metadata": {
        "id": "b9cd50a0-992d-4988-8463-2b2b1c4629b4"
      },
      "source": [
        "1. Сколько вакансий имеет отношение к данным?\n",
        "\n",
        "Считаем, что вакансия имеет отношение к данным, если в её названии содержатся слова 'data' или 'данн'.\n",
        "\n",
        "*Подсказка: Обратите внимание, что названия вакансий могут быть написаны в любом регистре.* \n"
      ]
    },
    {
      "cell_type": "code",
      "execution_count": 122,
      "id": "54ab0e50-c0f1-47cc-a54b-bc5c8bc363f9",
      "metadata": {
        "id": "54ab0e50-c0f1-47cc-a54b-bc5c8bc363f9"
      },
      "outputs": [
        {
          "name": "stderr",
          "output_type": "stream",
          "text": [
            "C:\\Users\\user\\AppData\\Local\\Temp\\ipykernel_18424\\3305081415.py:14: UserWarning: pandas only supports SQLAlchemy connectable (engine/connection) or database string URI or sqlite3 DBAPI2 connection. Other DBAPI2 objects are not tested. Please consider using SQLAlchemy.\n",
            "  df = pd.read_sql_query(query_6_1, connection)\n"
          ]
        },
        {
          "data": {
            "text/html": [
              "<div>\n",
              "<style scoped>\n",
              "    .dataframe tbody tr th:only-of-type {\n",
              "        vertical-align: middle;\n",
              "    }\n",
              "\n",
              "    .dataframe tbody tr th {\n",
              "        vertical-align: top;\n",
              "    }\n",
              "\n",
              "    .dataframe thead th {\n",
              "        text-align: right;\n",
              "    }\n",
              "</style>\n",
              "<table border=\"1\" class=\"dataframe\">\n",
              "  <thead>\n",
              "    <tr style=\"text-align: right;\">\n",
              "      <th></th>\n",
              "      <th>count</th>\n",
              "    </tr>\n",
              "  </thead>\n",
              "  <tbody>\n",
              "    <tr>\n",
              "      <th>0</th>\n",
              "      <td>1771</td>\n",
              "    </tr>\n",
              "  </tbody>\n",
              "</table>\n",
              "</div>"
            ],
            "text/plain": [
              "   count\n",
              "0   1771"
            ]
          },
          "execution_count": 122,
          "metadata": {},
          "output_type": "execute_result"
        }
      ],
      "source": [
        "# текст запроса\n",
        "connection = psycopg2.connect(\n",
        "    host=host,\n",
        "    port=port,\n",
        "    database=database,\n",
        "    user=user,\n",
        "    password=password\n",
        ")\n",
        "\n",
        "query_6_1 = f'''select count(*)\n",
        "                from vacancies\n",
        "                where name ilike '%data%' or name ilike '%данн%'\n",
        "                '''\n",
        "df = pd.read_sql_query(query_6_1, connection)\n",
        "connection.close()\n",
        "df.head(20)"
      ]
    },
    {
      "cell_type": "code",
      "execution_count": 123,
      "id": "9F1meAqsuUjd",
      "metadata": {
        "id": "9F1meAqsuUjd"
      },
      "outputs": [
        {
          "data": {
            "text/plain": [
              "array([[1771]], dtype=int64)"
            ]
          },
          "execution_count": 123,
          "metadata": {},
          "output_type": "execute_result"
        }
      ],
      "source": [
        "# результат запроса\n",
        "df.values\n",
        "# array([[1771]], dtype=int64)"
      ]
    },
    {
      "cell_type": "markdown",
      "id": "4dea20cb-a36b-474a-a0b9-e08e8e3857a5",
      "metadata": {
        "id": "4dea20cb-a36b-474a-a0b9-e08e8e3857a5"
      },
      "source": [
        "2. Сколько есть подходящих вакансий для начинающего дата-сайентиста? \n",
        "Будем считать вакансиями для дата-сайентистов такие, в названии которых есть хотя бы одно из следующих сочетаний:\n",
        "* 'data scientist'\n",
        "* 'data science'\n",
        "* 'исследователь данных'\n",
        "* 'ML' (здесь не нужно брать вакансии по HTML)\n",
        "* 'machine learning'\n",
        "* 'машинн%обучен%'\n",
        "\n",
        "** В следующих заданиях мы продолжим работать с вакансиями по этому условию.*\n",
        "\n",
        "Считаем вакансиями для специалистов уровня Junior следующие:\n",
        "* в названии есть слово 'junior' *или*\n",
        "* требуемый опыт — Нет опыта *или*\n",
        "* тип трудоустройства — Стажировка.\n",
        " "
      ]
    },
    {
      "cell_type": "code",
      "execution_count": 124,
      "id": "9c61b3c0-bb66-46c9-ae1e-81d3f5752b4a",
      "metadata": {
        "id": "9c61b3c0-bb66-46c9-ae1e-81d3f5752b4a"
      },
      "outputs": [
        {
          "name": "stderr",
          "output_type": "stream",
          "text": [
            "C:\\Users\\user\\AppData\\Local\\Temp\\ipykernel_18424\\2868881126.py:22: UserWarning: pandas only supports SQLAlchemy connectable (engine/connection) or database string URI or sqlite3 DBAPI2 connection. Other DBAPI2 objects are not tested. Please consider using SQLAlchemy.\n",
            "  df = pd.read_sql_query(query_6_2, connection)\n"
          ]
        },
        {
          "data": {
            "text/html": [
              "<div>\n",
              "<style scoped>\n",
              "    .dataframe tbody tr th:only-of-type {\n",
              "        vertical-align: middle;\n",
              "    }\n",
              "\n",
              "    .dataframe tbody tr th {\n",
              "        vertical-align: top;\n",
              "    }\n",
              "\n",
              "    .dataframe thead th {\n",
              "        text-align: right;\n",
              "    }\n",
              "</style>\n",
              "<table border=\"1\" class=\"dataframe\">\n",
              "  <thead>\n",
              "    <tr style=\"text-align: right;\">\n",
              "      <th></th>\n",
              "      <th>count</th>\n",
              "    </tr>\n",
              "  </thead>\n",
              "  <tbody>\n",
              "    <tr>\n",
              "      <th>0</th>\n",
              "      <td>51</td>\n",
              "    </tr>\n",
              "  </tbody>\n",
              "</table>\n",
              "</div>"
            ],
            "text/plain": [
              "   count\n",
              "0     51"
            ]
          },
          "execution_count": 124,
          "metadata": {},
          "output_type": "execute_result"
        }
      ],
      "source": [
        "# текст запроса\n",
        "connection = psycopg2.connect(\n",
        "    host=host,\n",
        "    port=port,\n",
        "    database=database,\n",
        "    user=user,\n",
        "    password=password\n",
        ")\n",
        "\n",
        "query_6_2 = f'''select count(*)\n",
        "                from vacancies\n",
        "                where (name ilike '%data scientist%'\n",
        "                \tor name ilike '%data science%'\n",
        "                \tor name ilike '%исследователь данных%'\n",
        "                \tor (name ilike '%ML%' and name not ilike '%HTML%')\n",
        "                \tor name ilike '%machine learning%'\n",
        "                \tor name ilike '%машинн%обучен%')\n",
        "                \tand (name ilike '%junior%'\n",
        "                \tor experience ilike '%Нет опыта%'\n",
        "                \tor employment ilike '%Стажировка%')\n",
        "                '''\n",
        "df = pd.read_sql_query(query_6_2, connection)\n",
        "connection.close()\n",
        "df.head()"
      ]
    },
    {
      "cell_type": "code",
      "execution_count": 125,
      "id": "ZNM-LLYuu1dj",
      "metadata": {
        "id": "ZNM-LLYuu1dj"
      },
      "outputs": [
        {
          "data": {
            "text/plain": [
              "array([[51]], dtype=int64)"
            ]
          },
          "execution_count": 125,
          "metadata": {},
          "output_type": "execute_result"
        }
      ],
      "source": [
        "# результат запроса\n",
        "df.values\n",
        "# array([[51]], dtype=int64)"
      ]
    },
    {
      "cell_type": "markdown",
      "id": "eedceb80-c5ca-480e-b27a-278dfb8b4438",
      "metadata": {
        "id": "eedceb80-c5ca-480e-b27a-278dfb8b4438"
      },
      "source": [
        "3. Сколько есть вакансий для DS, в которых в качестве ключевого навыка указан SQL или postgres?\n",
        "\n",
        "** Критерии для отнесения вакансии к DS указаны в предыдущем задании.*"
      ]
    },
    {
      "cell_type": "code",
      "execution_count": 126,
      "id": "69621713-0cc5-4f1b-a1d7-bb144fa6148c",
      "metadata": {
        "id": "69621713-0cc5-4f1b-a1d7-bb144fa6148c"
      },
      "outputs": [
        {
          "name": "stderr",
          "output_type": "stream",
          "text": [
            "C:\\Users\\user\\AppData\\Local\\Temp\\ipykernel_18424\\3584441375.py:20: UserWarning: pandas only supports SQLAlchemy connectable (engine/connection) or database string URI or sqlite3 DBAPI2 connection. Other DBAPI2 objects are not tested. Please consider using SQLAlchemy.\n",
            "  df = pd.read_sql_query(query_6_3, connection)\n"
          ]
        },
        {
          "data": {
            "text/html": [
              "<div>\n",
              "<style scoped>\n",
              "    .dataframe tbody tr th:only-of-type {\n",
              "        vertical-align: middle;\n",
              "    }\n",
              "\n",
              "    .dataframe tbody tr th {\n",
              "        vertical-align: top;\n",
              "    }\n",
              "\n",
              "    .dataframe thead th {\n",
              "        text-align: right;\n",
              "    }\n",
              "</style>\n",
              "<table border=\"1\" class=\"dataframe\">\n",
              "  <thead>\n",
              "    <tr style=\"text-align: right;\">\n",
              "      <th></th>\n",
              "      <th>count</th>\n",
              "    </tr>\n",
              "  </thead>\n",
              "  <tbody>\n",
              "    <tr>\n",
              "      <th>0</th>\n",
              "      <td>201</td>\n",
              "    </tr>\n",
              "  </tbody>\n",
              "</table>\n",
              "</div>"
            ],
            "text/plain": [
              "   count\n",
              "0    201"
            ]
          },
          "execution_count": 126,
          "metadata": {},
          "output_type": "execute_result"
        }
      ],
      "source": [
        "# текст запроса\n",
        "connection = psycopg2.connect(\n",
        "    host=host,\n",
        "    port=port,\n",
        "    database=database,\n",
        "    user=user,\n",
        "    password=password\n",
        ")\n",
        "\n",
        "query_6_3 = f'''select count(*)\n",
        "                from vacancies\n",
        "                where (name ilike '%data scientist%'\n",
        "                \tor name ilike '%data science%'\n",
        "                \tor name ilike '%исследователь данных%'\n",
        "                \tor (name like '%ML%' and name not ilike '%HTML%')\n",
        "                \tor name ilike '%machine learning%'\n",
        "                \tor name ilike '%машинн%обучен%')\n",
        "                and (key_skills ilike '%sql%' or key_skills ilike '%postgres%')\n",
        "                '''\n",
        "df = pd.read_sql_query(query_6_3, connection)\n",
        "connection.close()\n",
        "df.head()"
      ]
    },
    {
      "cell_type": "code",
      "execution_count": 127,
      "id": "alA8WEAAvGdf",
      "metadata": {
        "id": "alA8WEAAvGdf"
      },
      "outputs": [
        {
          "data": {
            "text/plain": [
              "array([[201]], dtype=int64)"
            ]
          },
          "execution_count": 127,
          "metadata": {},
          "output_type": "execute_result"
        }
      ],
      "source": [
        "# результат запроса\n",
        "df.values\n",
        "# array([[201]], dtype=int64)"
      ]
    },
    {
      "cell_type": "markdown",
      "id": "1be1e9c6-37cf-4a5f-bfeb-04cab799dc80",
      "metadata": {
        "id": "1be1e9c6-37cf-4a5f-bfeb-04cab799dc80"
      },
      "source": [
        "4. Проверьте, насколько популярен Python в требованиях работодателей к DS.Для этого вычислите количество вакансий, в которых в качестве ключевого навыка указан Python.\n",
        "\n",
        "** Это можно сделать помощью запроса, аналогичного предыдущему.*"
      ]
    },
    {
      "cell_type": "code",
      "execution_count": 128,
      "id": "0036a355-9ccf-4564-8b01-73d8194297e7",
      "metadata": {
        "id": "0036a355-9ccf-4564-8b01-73d8194297e7"
      },
      "outputs": [
        {
          "name": "stderr",
          "output_type": "stream",
          "text": [
            "C:\\Users\\user\\AppData\\Local\\Temp\\ipykernel_18424\\1905390275.py:22: UserWarning: pandas only supports SQLAlchemy connectable (engine/connection) or database string URI or sqlite3 DBAPI2 connection. Other DBAPI2 objects are not tested. Please consider using SQLAlchemy.\n",
            "  df = pd.read_sql_query(query_6_4, connection)\n"
          ]
        },
        {
          "data": {
            "text/html": [
              "<div>\n",
              "<style scoped>\n",
              "    .dataframe tbody tr th:only-of-type {\n",
              "        vertical-align: middle;\n",
              "    }\n",
              "\n",
              "    .dataframe tbody tr th {\n",
              "        vertical-align: top;\n",
              "    }\n",
              "\n",
              "    .dataframe thead th {\n",
              "        text-align: right;\n",
              "    }\n",
              "</style>\n",
              "<table border=\"1\" class=\"dataframe\">\n",
              "  <thead>\n",
              "    <tr style=\"text-align: right;\">\n",
              "      <th></th>\n",
              "      <th>count</th>\n",
              "    </tr>\n",
              "  </thead>\n",
              "  <tbody>\n",
              "    <tr>\n",
              "      <th>0</th>\n",
              "      <td>351</td>\n",
              "    </tr>\n",
              "  </tbody>\n",
              "</table>\n",
              "</div>"
            ],
            "text/plain": [
              "   count\n",
              "0    351"
            ]
          },
          "execution_count": 128,
          "metadata": {},
          "output_type": "execute_result"
        }
      ],
      "source": [
        "# текст запроса\n",
        "connection = psycopg2.connect(\n",
        "    host=host,\n",
        "    port=port,\n",
        "    database=database,\n",
        "    user=user,\n",
        "    password=password\n",
        ")\n",
        "\n",
        "query_6_4 = f'''select count(*)\n",
        "                from vacancies v\n",
        "                left join areas a on v.area_id=a.id\n",
        "                left join employers e on v.employer_id=e.id\n",
        "                where (v.name ilike '%data scientist%'\n",
        "                \tor v.name ilike '%data science%'\n",
        "                \tor v.name ilike '%исследователь данных%'\n",
        "                \tor (v.name like '%ML%' and v.name not ilike '%HTML%')\n",
        "                \tor v.name ilike '%machine learning%'\n",
        "                \tor v.name ilike '%машинн%обучен%')\n",
        "                and key_skills ilike '%python%'\n",
        "                '''\n",
        "df = pd.read_sql_query(query_6_4, connection)\n",
        "connection.close()\n",
        "df.head()"
      ]
    },
    {
      "cell_type": "code",
      "execution_count": 129,
      "id": "1i-5WyucvQ6v",
      "metadata": {
        "id": "1i-5WyucvQ6v"
      },
      "outputs": [
        {
          "data": {
            "text/plain": [
              "array([[351]], dtype=int64)"
            ]
          },
          "execution_count": 129,
          "metadata": {},
          "output_type": "execute_result"
        }
      ],
      "source": [
        "# результат запроса\n",
        "df.values\n",
        "# array([[351]], dtype=int64)"
      ]
    },
    {
      "cell_type": "markdown",
      "id": "ec3c8db7-fa21-4a41-a994-1af63742a642",
      "metadata": {
        "id": "ec3c8db7-fa21-4a41-a994-1af63742a642"
      },
      "source": [
        "5. Сколько ключевых навыков в среднем указывают в вакансиях для DS?\n",
        "Ответ округлите до двух знаков после точки-разделителя."
      ]
    },
    {
      "cell_type": "code",
      "execution_count": 130,
      "id": "949132bc-d5b6-4611-8218-0b9a504d74f4",
      "metadata": {
        "id": "949132bc-d5b6-4611-8218-0b9a504d74f4"
      },
      "outputs": [
        {
          "name": "stderr",
          "output_type": "stream",
          "text": [
            "C:\\Users\\user\\AppData\\Local\\Temp\\ipykernel_18424\\1476652805.py:23: UserWarning: pandas only supports SQLAlchemy connectable (engine/connection) or database string URI or sqlite3 DBAPI2 connection. Other DBAPI2 objects are not tested. Please consider using SQLAlchemy.\n",
            "  df = pd.read_sql_query(query_6_5, connection)\n"
          ]
        },
        {
          "data": {
            "text/html": [
              "<div>\n",
              "<style scoped>\n",
              "    .dataframe tbody tr th:only-of-type {\n",
              "        vertical-align: middle;\n",
              "    }\n",
              "\n",
              "    .dataframe tbody tr th {\n",
              "        vertical-align: top;\n",
              "    }\n",
              "\n",
              "    .dataframe thead th {\n",
              "        text-align: right;\n",
              "    }\n",
              "</style>\n",
              "<table border=\"1\" class=\"dataframe\">\n",
              "  <thead>\n",
              "    <tr style=\"text-align: right;\">\n",
              "      <th></th>\n",
              "      <th>round</th>\n",
              "    </tr>\n",
              "  </thead>\n",
              "  <tbody>\n",
              "    <tr>\n",
              "      <th>0</th>\n",
              "      <td>6.41</td>\n",
              "    </tr>\n",
              "  </tbody>\n",
              "</table>\n",
              "</div>"
            ],
            "text/plain": [
              "   round\n",
              "0   6.41"
            ]
          },
          "execution_count": 130,
          "metadata": {},
          "output_type": "execute_result"
        }
      ],
      "source": [
        "# текст запроса\n",
        "connection = psycopg2.connect(\n",
        "    host=host,\n",
        "    port=port,\n",
        "    database=database,\n",
        "    user=user,\n",
        "    password=password\n",
        ")\n",
        "\n",
        "query_6_5 = f'''select\n",
        "                \tround(avg(LENGTH(key_skills)-LENGTH(REPLACE(key_skills,CHR(9),''))+1),2)\n",
        "                from vacancies v\n",
        "                left join areas a on v.area_id=a.id\n",
        "                left join employers e on v.employer_id=e.id\n",
        "                where (v.name ilike '%data scientist%'\n",
        "                \tor v.name ilike '%data science%'\n",
        "                \tor v.name ilike '%исследователь данных%'\n",
        "                \tor (v.name like '%ML%' and v.name not ilike '%HTML%')\n",
        "                \tor v.name ilike '%machine learning%'\n",
        "                \tor v.name ilike '%машинн%обучен%')\n",
        "                and key_skills IS NOT NULL\n",
        "                '''\n",
        "df = pd.read_sql_query(query_6_5, connection)\n",
        "connection.close()\n",
        "df.head()"
      ]
    },
    {
      "cell_type": "code",
      "execution_count": 131,
      "id": "a3V24Tvmviqk",
      "metadata": {
        "id": "a3V24Tvmviqk"
      },
      "outputs": [
        {
          "data": {
            "text/plain": [
              "array([[6.41]])"
            ]
          },
          "execution_count": 131,
          "metadata": {},
          "output_type": "execute_result"
        }
      ],
      "source": [
        "# результат запроса\n",
        "df.values\n",
        "# array([[6.41]])"
      ]
    },
    {
      "cell_type": "markdown",
      "id": "1041c17a-ca8f-4543-a0ca-32778914fb00",
      "metadata": {
        "id": "1041c17a-ca8f-4543-a0ca-32778914fb00"
      },
      "source": [
        "6. Напишите запрос, позволяющий вычислить, какую зарплату для DS в **среднем** указывают для каждого типа требуемого опыта (уникальное значение из поля *experience*). \n",
        "\n",
        "При решении задачи примите во внимание следующее:\n",
        "1. Рассматриваем только вакансии, у которых заполнено хотя бы одно из двух полей с зарплатой.\n",
        "2. Если заполнены оба поля с зарплатой, то считаем зарплату по каждой вакансии как сумму двух полей, делённую на 2. Если заполнено только одно из полей, то его и считаем зарплатой по вакансии.\n",
        "3. Если в расчётах участвует null, в результате он тоже даст null (посмотрите, что возвращает запрос select 1 + null). Чтобы избежать этой ситуацию, мы воспользуемся функцией [coalesce](https://postgrespro.ru/docs/postgresql/9.5/functions-conditional#functions-coalesce-nvl-ifnull), которая заменит null на значение, которое мы передадим. Например, посмотрите, что возвращает запрос `select 1 + coalesce(null, 0)`\n",
        "\n",
        "Выясните, на какую зарплату в среднем может рассчитывать дата-сайентист с опытом работы от 3 до 6 лет. Результат округлите до целого числа. "
      ]
    },
    {
      "cell_type": "code",
      "execution_count": 132,
      "id": "6a743d39-5204-48d3-8271-b9f88e68d40e",
      "metadata": {
        "id": "6a743d39-5204-48d3-8271-b9f88e68d40e"
      },
      "outputs": [
        {
          "name": "stderr",
          "output_type": "stream",
          "text": [
            "C:\\Users\\user\\AppData\\Local\\Temp\\ipykernel_18424\\309804637.py:26: UserWarning: pandas only supports SQLAlchemy connectable (engine/connection) or database string URI or sqlite3 DBAPI2 connection. Other DBAPI2 objects are not tested. Please consider using SQLAlchemy.\n",
            "  df = pd.read_sql_query(query_6_6, connection)\n"
          ]
        },
        {
          "data": {
            "text/html": [
              "<div>\n",
              "<style scoped>\n",
              "    .dataframe tbody tr th:only-of-type {\n",
              "        vertical-align: middle;\n",
              "    }\n",
              "\n",
              "    .dataframe tbody tr th {\n",
              "        vertical-align: top;\n",
              "    }\n",
              "\n",
              "    .dataframe thead th {\n",
              "        text-align: right;\n",
              "    }\n",
              "</style>\n",
              "<table border=\"1\" class=\"dataframe\">\n",
              "  <thead>\n",
              "    <tr style=\"text-align: right;\">\n",
              "      <th></th>\n",
              "      <th>average_salary</th>\n",
              "      <th>experience</th>\n",
              "    </tr>\n",
              "  </thead>\n",
              "  <tbody>\n",
              "    <tr>\n",
              "      <th>0</th>\n",
              "      <td>74643.0</td>\n",
              "      <td>Нет опыта</td>\n",
              "    </tr>\n",
              "    <tr>\n",
              "      <th>1</th>\n",
              "      <td>139675.0</td>\n",
              "      <td>От 1 года до 3 лет</td>\n",
              "    </tr>\n",
              "    <tr>\n",
              "      <th>2</th>\n",
              "      <td>243115.0</td>\n",
              "      <td>От 3 до 6 лет</td>\n",
              "    </tr>\n",
              "  </tbody>\n",
              "</table>\n",
              "</div>"
            ],
            "text/plain": [
              "   average_salary          experience\n",
              "0         74643.0           Нет опыта\n",
              "1        139675.0  От 1 года до 3 лет\n",
              "2        243115.0       От 3 до 6 лет"
            ]
          },
          "execution_count": 132,
          "metadata": {},
          "output_type": "execute_result"
        }
      ],
      "source": [
        "# текст запроса\n",
        "connection = psycopg2.connect(\n",
        "    host=host,\n",
        "    port=port,\n",
        "    database=database,\n",
        "    user=user,\n",
        "    password=password\n",
        ")\n",
        "\n",
        "query_6_6 = f'''SELECT\n",
        "                  ROUND(AVG(COALESCE((salary_from+salary_to)/2, salary_from, salary_to))) AS Average_Salary,\n",
        "                  experience\n",
        "                FROM vacancies v\n",
        "                LEFT JOIN areas a ON v.area_id = a.id\n",
        "                LEFT JOIN employers e ON v.employer_id = e.id\n",
        "                WHERE (v.name ILIKE '%data scientist%'\n",
        "                  OR v.name ILIKE '%data science%'\n",
        "                  OR v.name ILIKE '%исследователь данных%'\n",
        "                  OR (v.name LIKE '%ML%' AND v.name NOT ILIKE '%HTML%')\n",
        "                  OR v.name ILIKE '%machine learning%'\n",
        "                  OR v.name ILIKE '%машинн%обучен%')\n",
        "                  AND (salary_from IS NOT NULL\n",
        "                  OR salary_to IS NOT NULL)\n",
        "                GROUP BY experience\n",
        "            '''\n",
        "df = pd.read_sql_query(query_6_6, connection)\n",
        "connection.close()\n",
        "df.head()"
      ]
    },
    {
      "cell_type": "code",
      "execution_count": 133,
      "id": "aRIJ0mZEwU1_",
      "metadata": {
        "id": "aRIJ0mZEwU1_"
      },
      "outputs": [
        {
          "data": {
            "text/plain": [
              "array([[74643.0, 'Нет опыта'],\n",
              "       [139675.0, 'От 1 года до 3 лет'],\n",
              "       [243115.0, 'От 3 до 6 лет']], dtype=object)"
            ]
          },
          "execution_count": 133,
          "metadata": {},
          "output_type": "execute_result"
        }
      ],
      "source": [
        "# результат запроса\n",
        "df.values\n",
        "# array([[74643.0, 'Нет опыта'],\n",
        "#        [139675.0, 'От 1 года до 3 лет'],\n",
        "#        [243115.0, 'От 3 до 6 лет']], dtype=object)"
      ]
    },
    {
      "attachments": {},
      "cell_type": "markdown",
      "id": "96c6facf",
      "metadata": {},
      "source": [
        "### Дополнительно найду вакансии которые в Питере (т.к. я сам тут живу) или с возможностью удалённой работы из любого города\n",
        "Только вакансии у которы опыт не более 3-х лет"
      ]
    },
    {
      "cell_type": "code",
      "execution_count": 135,
      "id": "999afd1a",
      "metadata": {},
      "outputs": [
        {
          "name": "stderr",
          "output_type": "stream",
          "text": [
            "C:\\Users\\user\\AppData\\Local\\Temp\\ipykernel_18424\\3056556698.py:26: UserWarning: pandas only supports SQLAlchemy connectable (engine/connection) or database string URI or sqlite3 DBAPI2 connection. Other DBAPI2 objects are not tested. Please consider using SQLAlchemy.\n",
            "  df = pd.read_sql_query(query_6_6, connection)\n"
          ]
        },
        {
          "data": {
            "text/html": [
              "<div>\n",
              "<style scoped>\n",
              "    .dataframe tbody tr th:only-of-type {\n",
              "        vertical-align: middle;\n",
              "    }\n",
              "\n",
              "    .dataframe tbody tr th {\n",
              "        vertical-align: top;\n",
              "    }\n",
              "\n",
              "    .dataframe thead th {\n",
              "        text-align: right;\n",
              "    }\n",
              "</style>\n",
              "<table border=\"1\" class=\"dataframe\">\n",
              "  <thead>\n",
              "    <tr style=\"text-align: right;\">\n",
              "      <th></th>\n",
              "      <th>id</th>\n",
              "      <th>name</th>\n",
              "      <th>key_skills</th>\n",
              "      <th>schedule</th>\n",
              "      <th>experience</th>\n",
              "      <th>employment</th>\n",
              "      <th>salary_from</th>\n",
              "      <th>salary_to</th>\n",
              "      <th>area_id</th>\n",
              "      <th>employer_id</th>\n",
              "      <th>id</th>\n",
              "      <th>name</th>\n",
              "      <th>id</th>\n",
              "      <th>name</th>\n",
              "      <th>area</th>\n",
              "    </tr>\n",
              "  </thead>\n",
              "  <tbody>\n",
              "    <tr>\n",
              "      <th>0</th>\n",
              "      <td>55351195</td>\n",
              "      <td>Data Scientist</td>\n",
              "      <td>Python\\tSQL\\tNLP\\tScikit-learn\\tMachine Learning</td>\n",
              "      <td>Полный день</td>\n",
              "      <td>От 1 года до 3 лет</td>\n",
              "      <td>Полная занятость</td>\n",
              "      <td>NaN</td>\n",
              "      <td>NaN</td>\n",
              "      <td>2</td>\n",
              "      <td>3127</td>\n",
              "      <td>2</td>\n",
              "      <td>Санкт-Петербург</td>\n",
              "      <td>3127</td>\n",
              "      <td>МегаФон</td>\n",
              "      <td>1</td>\n",
              "    </tr>\n",
              "    <tr>\n",
              "      <th>1</th>\n",
              "      <td>55166994</td>\n",
              "      <td>ML разработчик (удалённо)</td>\n",
              "      <td>Python\\tПоиск информации в интернет\\tC++\\tМате...</td>\n",
              "      <td>Удаленная работа</td>\n",
              "      <td>От 1 года до 3 лет</td>\n",
              "      <td>Полная занятость</td>\n",
              "      <td>50000.0</td>\n",
              "      <td>100000.0</td>\n",
              "      <td>1</td>\n",
              "      <td>6154479</td>\n",
              "      <td>1</td>\n",
              "      <td>Москва</td>\n",
              "      <td>6154479</td>\n",
              "      <td>Cpaaggregator.com</td>\n",
              "      <td>1</td>\n",
              "    </tr>\n",
              "    <tr>\n",
              "      <th>2</th>\n",
              "      <td>55529384</td>\n",
              "      <td>Математик, Junior/Middle/Senior Data Scientist</td>\n",
              "      <td>Python\\tMATLAB\\tМатематическое моделирование\\t...</td>\n",
              "      <td>Удаленная работа</td>\n",
              "      <td>От 1 года до 3 лет</td>\n",
              "      <td>Частичная занятость</td>\n",
              "      <td>NaN</td>\n",
              "      <td>NaN</td>\n",
              "      <td>1002</td>\n",
              "      <td>1688252</td>\n",
              "      <td>1002</td>\n",
              "      <td>Минск</td>\n",
              "      <td>1688252</td>\n",
              "      <td>Представительство ООО «Квалитет» (Российская Ф...</td>\n",
              "      <td>1002</td>\n",
              "    </tr>\n",
              "    <tr>\n",
              "      <th>3</th>\n",
              "      <td>55145641</td>\n",
              "      <td>Junior Data Scientist</td>\n",
              "      <td>Python\\tSQL\\tMachine Learning\\tData Science\\tА...</td>\n",
              "      <td>Полный день</td>\n",
              "      <td>Нет опыта</td>\n",
              "      <td>Полная занятость</td>\n",
              "      <td>50000.0</td>\n",
              "      <td>NaN</td>\n",
              "      <td>2</td>\n",
              "      <td>40938</td>\n",
              "      <td>2</td>\n",
              "      <td>Санкт-Петербург</td>\n",
              "      <td>40938</td>\n",
              "      <td>Улыбка радуги</td>\n",
              "      <td>2</td>\n",
              "    </tr>\n",
              "    <tr>\n",
              "      <th>4</th>\n",
              "      <td>44095047</td>\n",
              "      <td>Инженер-тестировщик в команду Machine Learning</td>\n",
              "      <td>Python\\tGit\\tAtlassian Jira\\tLinux\\tMATLAB</td>\n",
              "      <td>Удаленная работа</td>\n",
              "      <td>От 1 года до 3 лет</td>\n",
              "      <td>Полная занятость</td>\n",
              "      <td>NaN</td>\n",
              "      <td>NaN</td>\n",
              "      <td>4</td>\n",
              "      <td>8550</td>\n",
              "      <td>4</td>\n",
              "      <td>Новосибирск</td>\n",
              "      <td>8550</td>\n",
              "      <td>Центр финансовых технологий</td>\n",
              "      <td>4</td>\n",
              "    </tr>\n",
              "  </tbody>\n",
              "</table>\n",
              "</div>"
            ],
            "text/plain": [
              "         id                                            name  \\\n",
              "0  55351195                                  Data Scientist   \n",
              "1  55166994                       ML разработчик (удалённо)   \n",
              "2  55529384  Математик, Junior/Middle/Senior Data Scientist   \n",
              "3  55145641                           Junior Data Scientist   \n",
              "4  44095047  Инженер-тестировщик в команду Machine Learning   \n",
              "\n",
              "                                          key_skills          schedule  \\\n",
              "0   Python\\tSQL\\tNLP\\tScikit-learn\\tMachine Learning       Полный день   \n",
              "1  Python\\tПоиск информации в интернет\\tC++\\tМате...  Удаленная работа   \n",
              "2  Python\\tMATLAB\\tМатематическое моделирование\\t...  Удаленная работа   \n",
              "3  Python\\tSQL\\tMachine Learning\\tData Science\\tА...       Полный день   \n",
              "4         Python\\tGit\\tAtlassian Jira\\tLinux\\tMATLAB  Удаленная работа   \n",
              "\n",
              "           experience           employment  salary_from  salary_to  area_id  \\\n",
              "0  От 1 года до 3 лет     Полная занятость          NaN        NaN        2   \n",
              "1  От 1 года до 3 лет     Полная занятость      50000.0   100000.0        1   \n",
              "2  От 1 года до 3 лет  Частичная занятость          NaN        NaN     1002   \n",
              "3           Нет опыта     Полная занятость      50000.0        NaN        2   \n",
              "4  От 1 года до 3 лет     Полная занятость          NaN        NaN        4   \n",
              "\n",
              "   employer_id    id             name       id  \\\n",
              "0         3127     2  Санкт-Петербург     3127   \n",
              "1      6154479     1           Москва  6154479   \n",
              "2      1688252  1002            Минск  1688252   \n",
              "3        40938     2  Санкт-Петербург    40938   \n",
              "4         8550     4      Новосибирск     8550   \n",
              "\n",
              "                                                name  area  \n",
              "0                                            МегаФон     1  \n",
              "1                                  Cpaaggregator.com     1  \n",
              "2  Представительство ООО «Квалитет» (Российская Ф...  1002  \n",
              "3                                      Улыбка радуги     2  \n",
              "4                        Центр финансовых технологий     4  "
            ]
          },
          "execution_count": 135,
          "metadata": {},
          "output_type": "execute_result"
        }
      ],
      "source": [
        "# текст запроса\n",
        "connection = psycopg2.connect(\n",
        "    host=host,\n",
        "    port=port,\n",
        "    database=database,\n",
        "    user=user,\n",
        "    password=password\n",
        ")\n",
        "\n",
        "query_6_6 = f'''select\n",
        "                \t*\n",
        "                from vacancies v\n",
        "                left join areas a on v.area_id=a.id\n",
        "                left join employers e on v.employer_id=e.id\n",
        "                where (v.name ilike '%data scientist%'\n",
        "                \tor v.name ilike '%data science%'\n",
        "                \tor v.name ilike '%исследователь данных%'\n",
        "                \tor (v.name like '%ML%' and v.name not ilike '%HTML%')\n",
        "                \tor v.name ilike '%machine learning%'\n",
        "                \tor v.name ilike '%машинн%обучен%')\n",
        "                and key_skills IS NOT NULL\n",
        "                and key_skills ilike '%python%'\n",
        "                and (a.name ilike '%санкт%' or v.schedule ilike '%удал%')\n",
        "                and v.experience not ilike '%От 3%'\n",
        "            '''\n",
        "df = pd.read_sql_query(query_6_6, connection)\n",
        "connection.close()\n",
        "df.head()"
      ]
    },
    {
      "cell_type": "code",
      "execution_count": 142,
      "id": "4653ba2b",
      "metadata": {},
      "outputs": [
        {
          "data": {
            "text/plain": [
              "id    73\n",
              "id    73\n",
              "id    73\n",
              "dtype: int64"
            ]
          },
          "execution_count": 142,
          "metadata": {},
          "output_type": "execute_result"
        }
      ],
      "source": [
        "# результат запроса\n",
        "df['id'].count()"
      ]
    },
    {
      "cell_type": "markdown",
      "id": "6a7892b4-4113-4746-adce-18aa2844f18e",
      "metadata": {
        "id": "6a7892b4-4113-4746-adce-18aa2844f18e"
      },
      "source": [
        "***"
      ]
    },
    {
      "attachments": {},
      "cell_type": "markdown",
      "id": "UjLWUptVwY1o",
      "metadata": {
        "id": "UjLWUptVwY1o"
      },
      "source": [
        "### Выводы по предметному анализу\n",
        "Выводы можно сделать следующие:\n",
        "- Запрос показывает, что вакансии, связанные с данными, составляют около 3.6% от общего числа вакансий в России. Это может означать, что спрос на специалистов по данным невысок или что такие специалисты редки и ценны.\n",
        "- Запрос показывает, что вакансии для начинающих дата-сайентистов составляют около 2.9% от общего числа вакансий, связанных с данными. Это может означать, что конкуренция за такие вакансии довольно высока и требуются хорошие навыки и опыт.\n",
        "- Запрос показывает, что вакансии для data scientist, в которых требуются навыки SQL или postgres, составляют около 11.4% от общего числа вакансий, связанных с данными. Это может означать, что такие навыки довольно востребованы и ценятся работодателями.\n",
        "- Запрос показывает, что вакансии для data scientist, в которых требуется знание Python, составляют около 19.8% от общего числа вакансий, связанных с данными. Это может означать, что Python является одним из самых популярных и востребованных языков программирования для работы с данными.\n",
        "- Запрос показывает, что в среднем работодатели указывают 6.41 ключевых навыков в вакансиях для data scientist. Это может означать, что работа data scientist требует широкого спектра знаний и умений в разных областях.\n",
        "- Запрос показывает, что работа data scientist является высокооплачиваемой и ценится на рынке труда. Также это может означать, что чем больше у вас опыта и навыков, тем выше ваша потенциальная зарплата."
      ]
    },
    {
      "cell_type": "markdown",
      "id": "c0ED6fh7wiBT",
      "metadata": {
        "id": "c0ED6fh7wiBT"
      },
      "source": [
        "# Общий вывод по проекту"
      ]
    },
    {
      "attachments": {},
      "cell_type": "markdown",
      "id": "cbb3bd7c",
      "metadata": {},
      "source": [
        "- Рынок IT вакансий довольно разнообразен и предлагает разные условия работы, зарплаты и требования к опыту и навыкам. Большинство работодателей предпочитают специалистов среднего и высокого уровня опыта, которые могут работать полный день и полную занятость. Однако также есть возможности для начинающих специалистов или тех, кто хочет работать удаленно или по гибкому графику. Зарплата по вакансиям зависит от многих факторов, таких как регион, город, сфера деятельности, тип рабочего графика и трудоустройства и требуемый уровень опыта. В целом, чем выше эти параметры, тем выше зарплата.\n",
        "\n",
        "- Проект показал, что спрос на data scientist в России высок и зависит от региона, опыта и навыков кандидатов. SQL или postgres являются одними из самых востребованных и ценных навыков для дата-сайентистов. Это говорит о том, что работодатели ожидают от дата-сайентистов умения работать с базами данных и извлекать из них полезную информацию для анализа и прогнозирования. Средняя зарплата для data scientist растет с увеличением опыта работы и достигает более 200 тысяч рублей в месяц для опытных специалистов. Работодатели предпочитают полный рабочий день и полную занятость, но также есть возможность работать удаленно или частично.\n",
        "\n",
        "- Разработка программного обеспечения является одной из самых популярных и востребованных сфер деятельности на рынке IT вакансий. Это говорит о том, что работодатели из разных отраслей и направлений нуждаются в квалифицированных специалистах по разработке программного обеспечения для решения своих задач и целей. Разработка программного обеспечения может быть связана с разными видами продуктов и проектов, такими как информационные технологии, интернет-сервисы, игровая индустрия, финансовые технологии и другие.\n",
        "\n",
        "- Яндекс является одним из самых крупных и активных работодателей на рынке IT вакансий. Яндекс предлагает вакансии во всех городах-миллионниках России. Больше всего вакансий Яндекса в Москве и Санкт-Петербурге, что соответствует статусу этих городов как крупных экономических и научных центров. Меньше всего вакансий Яндекса в Омске и Челябинске, что может быть связано с меньшим спросом на услуги Яндекса или конкуренцией с другими компаниями в этих регионах. Общее количество вакансий Яндекса составляет 485, что свидетельствует о том, что компания активно развивается и нуждается в новых сотрудниках.\n",
        "\n",
        "- Python является одним из самых популярных и востребованных языков программирования для работы с данными. Это говорит о том что Python предлагает много возможностей для дата-сайентистов в плане анализа, визуализации и машинного обучения. С помощью Python можно работать с разными форматами и источниками данных, применять различные статистические и математические методы, создавать интерактивные графики и диаграммы, обучать и тестировать модели машинного обучения и нейронных сетей. Python также поддерживает множество библиотек и фреймворков для работы с данными, таких как pandas, numpy, scipy, matplotlib, seaborn, scikit-learn, tensorflow и другие."
      ]
    }
  ],
  "metadata": {
    "colab": {
      "collapsed_sections": [
        "8d62a9f3-f64e-4fe7-bdac-c4dffa16155e"
      ],
      "provenance": []
    },
    "kernelspec": {
      "display_name": "Python 3 (ipykernel)",
      "language": "python",
      "name": "python3"
    },
    "language_info": {
      "codemirror_mode": {
        "name": "ipython",
        "version": 3
      },
      "file_extension": ".py",
      "mimetype": "text/x-python",
      "name": "python",
      "nbconvert_exporter": "python",
      "pygments_lexer": "ipython3",
      "version": "3.11.0"
    }
  },
  "nbformat": 4,
  "nbformat_minor": 5
}
